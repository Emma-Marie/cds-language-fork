{
  "cells": [
    {
      "cell_type": "markdown",
      "metadata": {
        "id": "hX4n9TsbGw-f"
      },
      "source": [
        "##### Copyright 2018 The TensorFlow Authors."
      ]
    },
    {
      "cell_type": "code",
      "execution_count": null,
      "metadata": {
        "cellView": "form",
        "id": "0nbI5DtDGw-i"
      },
      "outputs": [],
      "source": [
        "#@title Licensed under the Apache License, Version 2.0 (the \"License\");\n",
        "# you may not use this file except in compliance with the License.\n",
        "# You may obtain a copy of the License at\n",
        "#\n",
        "# https://www.apache.org/licenses/LICENSE-2.0\n",
        "#\n",
        "# Unless required by applicable law or agreed to in writing, software\n",
        "# distributed under the License is distributed on an \"AS IS\" BASIS,\n",
        "# WITHOUT WARRANTIES OR CONDITIONS OF ANY KIND, either express or implied.\n",
        "# See the License for the specific language governing permissions and\n",
        "# limitations under the License."
      ]
    },
    {
      "cell_type": "markdown",
      "metadata": {
        "id": "9TnJztDZGw-n"
      },
      "source": [
        "# Text classification with an RNN"
      ]
    },
    {
      "cell_type": "markdown",
      "metadata": {
        "id": "AfN3bMR5Gw-o"
      },
      "source": [
        "<table class=\"tfo-notebook-buttons\" align=\"left\">\n",
        "  <td>\n",
        "    <a target=\"_blank\" href=\"https://www.tensorflow.org/text/tutorials/text_classification_rnn\"><img src=\"https://www.tensorflow.org/images/tf_logo_32px.png\" />View on TensorFlow.org</a>\n",
        "  </td>\n",
        "  <td>\n",
        "    <a target=\"_blank\" href=\"https://colab.research.google.com/github/tensorflow/text/blob/master/docs/tutorials/text_classification_rnn.ipynb\"><img src=\"https://www.tensorflow.org/images/colab_logo_32px.png\" />Run in Google Colab</a>\n",
        "  </td>\n",
        "  <td>\n",
        "    <a target=\"_blank\" href=\"https://github.com/tensorflow/text/blob/master/docs/tutorials/text_classification_rnn.ipynb\"><img src=\"https://www.tensorflow.org/images/GitHub-Mark-32px.png\" />View source on GitHub</a>\n",
        "  </td>\n",
        "  <td>\n",
        "    <a href=\"https://storage.googleapis.com/tensorflow_docs/text/docs/tutorials/text_classification_rnn.ipynb\"><img src=\"https://www.tensorflow.org/images/download_logo_32px.png\" />Download notebook</a>\n",
        "  </td>\n",
        "</table>"
      ]
    },
    {
      "cell_type": "markdown",
      "metadata": {
        "id": "lUWearf0Gw-p"
      },
      "source": [
        "This text classification tutorial trains a [recurrent neural network](https://developers.google.com/machine-learning/glossary/#recurrent_neural_network) on the [IMDB large movie review dataset](http://ai.stanford.edu/~amaas/data/sentiment/) for sentiment analysis."
      ]
    },
    {
      "cell_type": "markdown",
      "metadata": {
        "id": "_2VQo4bajwUU"
      },
      "source": [
        "## Setup"
      ]
    },
    {
      "cell_type": "code",
      "execution_count": 4,
      "metadata": {
        "id": "z682XYsrjkY9"
      },
      "outputs": [
        {
          "name": "stderr",
          "output_type": "stream",
          "text": [
            "/home/coder/.local/lib/python3.9/site-packages/tqdm/auto.py:21: TqdmWarning: IProgress not found. Please update jupyter and ipywidgets. See https://ipywidgets.readthedocs.io/en/stable/user_install.html\n",
            "  from .autonotebook import tqdm as notebook_tqdm\n",
            "2023-03-15 09:52:51.458386: I tensorflow/core/platform/cpu_feature_guard.cc:193] This TensorFlow binary is optimized with oneAPI Deep Neural Network Library (oneDNN) to use the following CPU instructions in performance-critical operations:  AVX2 AVX512F FMA\n",
            "To enable them in other operations, rebuild TensorFlow with the appropriate compiler flags.\n"
          ]
        }
      ],
      "source": [
        "#run \"pip install -r requirements.txt\" in terminal\n",
        "import numpy as np\n",
        "#run \"pip install tensorflow_datasets\" in terminal (or put it in the requirements.txt)\n",
        "import tensorflow_datasets as tfds\n",
        "import tensorflow as tf\n",
        "\n",
        "tfds.disable_progress_bar()"
      ]
    },
    {
      "cell_type": "markdown",
      "metadata": {
        "id": "1rXHa-w9JZhb"
      },
      "source": [
        "Import `matplotlib` and create a helper function to plot graphs:"
      ]
    },
    {
      "cell_type": "code",
      "execution_count": 5,
      "metadata": {
        "id": "Mp1Z7P9pYRSK"
      },
      "outputs": [],
      "source": [
        "import matplotlib.pyplot as plt\n",
        "\n",
        "\n",
        "def plot_graphs(history, metric): # defining a function which takes two arguments\n",
        "  plt.plot(history.history[metric]) # the history object can be used to plot whatever metrix you want to show the output\n",
        "  plt.plot(history.history['val_'+metric], '')\n",
        "  plt.xlabel(\"Epochs\") # gives x-axis a name\n",
        "  plt.ylabel(metric) #gives y-axis a name\n",
        "  plt.legend([metric, 'val_'+metric]) # create legend"
      ]
    },
    {
      "cell_type": "markdown",
      "metadata": {
        "id": "pRmMubr0jrE2"
      },
      "source": [
        "## Setup input pipeline\n",
        "\n",
        "\n",
        "The IMDB large movie review dataset is a *binary classification* dataset—all the reviews have either a *positive* or *negative* sentiment.\n",
        "\n",
        "Download the dataset using [TFDS](https://www.tensorflow.org/datasets). See the [loading text tutorial](https://www.tensorflow.org/tutorials/load_data/text) for details on how to load this sort of data manually.\n"
      ]
    },
    {
      "cell_type": "code",
      "execution_count": 6,
      "metadata": {
        "id": "SHRwRoP2nVHX"
      },
      "outputs": [
        {
          "name": "stdout",
          "output_type": "stream",
          "text": [
            "\u001b[1mDownloading and preparing dataset Unknown size (download: Unknown size, generated: Unknown size, total: Unknown size) to /home/coder/tensorflow_datasets/imdb_reviews/plain_text/1.0.0...\u001b[0m\n"
          ]
        },
        {
          "name": "stderr",
          "output_type": "stream",
          "text": [
            "2023-03-15 10:13:22.188154: W tensorflow/core/platform/cloud/google_auth_provider.cc:184] All attempts to get a Google authentication bearer token failed, returning an empty token. Retrieving token from files failed with \"NOT_FOUND: Could not locate the credentials file.\". Retrieving token from GCE failed with \"FAILED_PRECONDITION: Error executing an HTTP request: libcurl code 6 meaning 'Couldn't resolve host name', error details: Could not resolve host: metadata\".\n"
          ]
        },
        {
          "name": "stdout",
          "output_type": "stream",
          "text": [
            "\u001b[1mDataset imdb_reviews downloaded and prepared to /home/coder/tensorflow_datasets/imdb_reviews/plain_text/1.0.0. Subsequent calls will reuse this data.\u001b[0m\n"
          ]
        },
        {
          "name": "stderr",
          "output_type": "stream",
          "text": [
            "2023-03-15 10:14:00.364554: I tensorflow/core/platform/cpu_feature_guard.cc:193] This TensorFlow binary is optimized with oneAPI Deep Neural Network Library (oneDNN) to use the following CPU instructions in performance-critical operations:  AVX2 AVX512F FMA\n",
            "To enable them in other operations, rebuild TensorFlow with the appropriate compiler flags.\n"
          ]
        },
        {
          "data": {
            "text/plain": [
              "(TensorSpec(shape=(), dtype=tf.string, name=None),\n",
              " TensorSpec(shape=(), dtype=tf.int64, name=None))"
            ]
          },
          "execution_count": 6,
          "metadata": {},
          "output_type": "execute_result"
        }
      ],
      "source": [
        "#loading data set and dividing into a training and a test set\n",
        "dataset, info = tfds.load('imdb_reviews', with_info=True, # load data\n",
        "                          as_supervised=True)\n",
        "train_dataset, test_dataset = dataset['train'], dataset['test'] # split into train and test\n",
        "\n",
        "train_dataset.element_spec"
      ]
    },
    {
      "cell_type": "markdown",
      "metadata": {
        "id": "nWA4c2ir7g6p"
      },
      "source": [
        "Initially this returns a dataset of (text, label pairs):"
      ]
    },
    {
      "cell_type": "code",
      "execution_count": 11,
      "metadata": {
        "id": "vd4_BGKyurao"
      },
      "outputs": [
        {
          "name": "stdout",
          "output_type": "stream",
          "text": [
            "text:  [b'Well, there is a plenty of ways how to spoil a political thriller. Usually they are derivative or too ambitious, often they feature a conspiracy that is totally paranoic and unbelievable. But City Hall does not do neither of the above mentioned. The plot is cleverly crafted, story is believable. As far as characters go I would say this movie is a solid average. No character seems out of place and Al Pacino is brilliant as always. His portrayal of a charismatic NYC mayor is superb and proves again that Al Pacino belongs to the absolute top of American actors nowadays.'\n",
            " b\"Having heard so many people raving about this film I thought I'd give it a go. Apart from being incredibly slow, which I don't mind as long as the wait is worth it, but it just isn't. As many others have said there are so many inconsistencies and so much of this film just doesn't ring true. The reaction of the 4 men switches from shock, horror on finding the body to complete indifference whilst they fish. Surely if they were the type of men that would go on happily fishing, then they would have just reported the body and said they had only discovered it after their fishing trip....why on earth tie the body to a tree, go fishing and then tell everyone you found the body 2 days previously? Its so hard to watch a film knowing that the behaviour of the main characters is so inconsistent. As for the rest of the townsfolk, well you'd think at least one of them might show some curiosity about who actually killed the woman! The body itself, naked except for the knickers....what scenario leads to that? If she was raped then why still the knickers? If she was raped with the clothes on, then why remove them afterwards bar the knickers? If she wasn't raped, then why take all her clothes off bar the knickers....leaving yourself with evidence to dispose of? I truly cant think of any realistic scenario that would lead to that other than killing someone to steal their clothes so you can fill up your jumble sale stall! Oh well its watchable but only just and only because, despite the poor script, the acting is strong.\"\n",
            " b\"This is the second film I've seen of Ida Lupino as a director after 53's the hitch-hiker. I think this one was a better film then that one. This one has a girl who is about to get married and she is then sexually assaulted and doesn't like everyone looking and talking about her so she runs away and and is taken in by a family. I think Leonard Maltin's review is right only to give it 2 and 1/2 stars.\"\n",
            " b'Today if someone mentions the name Victor McLaglen the response most likely will be \"Who?\" or perhaps \"Why?\" Well, believe it or not, Victor McLaglen won the Academy Award for Best Actor in this film, which is about a poor, desperate man who is willing to sell out his best friend for \"carfare\" to the United States. It\\'s an interesting movie which shows how low even the most well-meaning shnooks will go just for a few bucks. The movie takes place in British-dominated Ireland and while all the other characters are either directly or indirectly fighting for the political independence of Ireland, all Mr. McLaglen\\'s character is concerned about is getting money and getting drunk. The movie makes one wonder whether political activism is worth all the trouble because while the activist is struggling to make a point, many others not only do not care, they don\\'t even know what the fuss is all about. The morale of this movie is: look out for the friend, he may sell you out for a dime.'\n",
            " b\"Daniella has some issues brewing under her attractive exterior. She starts to lose her mind when she finds out about a distant relative (who she resembles) that was burned for being a werewolf. She goes a bit feral when she beads horny men and slashes out their throats. She does eventually find a man that helps contain her inner beast but when others ruin their bliss she extracts her violent and furry revenge.<br /><br />'Werewolf Woman' isn't a very goof film but it does pose as a good crowd film. A fun time could be had by harping the bad acting / dubbing / translation and the just plain cheesiness of the production. But on it's own it moves slowly but does have ample nudity to keep you awake\\xc2\\x85barely.\"\n",
            " b'Well-made but basically dreary low-life melodrama which, according to the accompanying interview with lead Isabelle Huppert, writer/director Pialat infused with a good deal of autobiographical detail; given the mainly unsympathetic characters involved, it doesn\\'t do him any compliments - and he does seem to have been a troubled man, as Huppert also says that Pialat often disappeared for days on end during the shoot! <br /><br />The acting is uniformly excellent, however; despite their relatively young age, Huppert and co-star Gerard Depardieu (as the title character!) were already at the forefront of modern French stars - a status which, with varying degrees of success, they both still hold to this day.<br /><br />I have 3 more of Pialat\\'s films in my \"VHS To Watch\" pile, albeit all in French without English Subtitles; due to this fact but also LOULOU\\'S oppressive realism - in spite of its undeniable artistic merit - I can\\'t say that I\\'m in any particular hurry to check them out now...'\n",
            " b\"Wow...speechless as to the making of this film, I can't say much. The coverbox at the local videostore should've said it all...nothing but 6 actors/actresses who get lost on the set of Scream and decide to shoot a movie!<br /><br />The acting was apparently not in the budget, but they were able to afford nudity and good-looking actors! Style over substance almost makes its mark here, except most of these acting-class failures keep forgetting that there is a plot that needs to go somewhere when they were reading this script. After only 4 or 5 kills by the so-called masked murderer and a confusing tie-in plot about a Murder Club which the dumb lead actress thinks is a real club that she can join (only if she can get over a girl bumping into her car), you want to stab your hands with the nearest sharp object to remind yourself never to get overly excited by a possibly good movie such as this.<br /><br />I feel bad for the people who bought this film and can't find anyone to take it off their hands. Another example of what's wrong with the growing number of straight to video horror releases with no thought put into the essentials. Throw it away if you did buy this.\"\n",
            " b'I really liked this movie. I have seen several Gene Kelly flicks and this is one of his best. I would actually put it above his more famous American in Paris. Sometimes it seems the story gets lost in Gene Kelly movies to the wonderful dance and song numbers, but not in this movie. It is definitely worth renting.'\n",
            " b'I notice that the previous reviewer (who appears to be still at school) gave this movie a very good review and I can only assume that this is because the reviewer hasn\\'t seen the far superior 1989 BBC adaptation of this classic novel. The major problem I had with this (1999) version was the casting of Anthony Way as Tom Long. Anthony Way was a talented boy treble who shot to fame after appearing in the TV mini-series \"The Choir\". I can only assume that he was cast for the role of Tom Long on the strength of his excellent acting in \"The Choir\". Unfortunately the small boy who appeared in \"The Choir\" had grown into a tall and gangly youth by the time \"Tom\\'s Midnight Garden\" was filmed and as such Anthony fails to convince as schoolboy Tom. It is too far a stretch of the imagination to believe that Tom (as played by Anthony) would befriend the far younger Hatty. In the 1989 BBC version Tom and Hatty are much closer in age and the development of their friendship is so much more believable. For a 1999 movie even the special effects fail to convince and are not any noticeable improvement on the 1989 TV effects. The casting and acting of this version are inferior to the earlier adaptation and all in all the movie was a lack lustre version of a true classic. As a final observation I would point out that the VHS of the 1989 BBC version fetches well over \\xc2\\xa320.00 second hand whereas a new DVD of this version can be bought for under \\xc2\\xa35.00, need I say more?'\n",
            " b'What more can be said? I have not been this fascinated with a young actress since Cate Blanchett burst upon the scene over ten years ago. And although both Blanchett and Blunt have played Queens now( seems to be the benchmark for up and coming actresses), the roles are complete polar opposites.<br /><br />Simply put if you are looking for high passion, compelling drama, and Machiavellian intrigue, this is not the movie for you. This isn\\'t to say that the script or direction was bad, its just that the subject of the film did not lead too dramatic a life when compared to other notable royals like Elizabeth I, Anne Boylen, Henry VIII, Henry V, Henry II and Elainor of Acquitane. These are people whose lives were the stuff such as good soap operas are made of and whose policies and decisions altered the course of British ,and in most cases, world history. Victoria, in contrast, ascended the throne without incident, she quasi-governed a nation that was fast becoming a global power due to industrialization and the rise of the Navy, her State had a stable government led by competent and dynamic politicians, and she married young had a harmonious family life. The facts of her life are not the Sturm und Drag such as powerful dramas are made of.<br /><br />The heart of the film, aside from the attempt to dramatize her stultifying upbringing and the machinations surrounding her throne, is the story of the one thing that was truly shocking and surprising about her reign- a love story. Marriage made for financial or political reasons is with reason not necessarily the place to look for world shaking passion, yet Victoria will always be remembered in history as being sort of a Patron Saint marital fidelity, happiness and ideal family life. Thus, central to the film is the budding love of Victoria and her Prince Albert. I was very taken with Rupert Friend\\'s characterization of Albert whom he portrayed as a kind, patient, somewhat earnest and maybe a touch naive young man, looking to\" do good in the world and help\". In short, he is a good man with a good heart, not the most dynamic figure to base a drama around, but as that is not the point of the story, that does not matter. The heart of the character shines through thanks to Friend\\'s understated yet earnest performance. <br /><br />As for the Queen, well..Emily Blunt is sublime. Her beauty cannot be denied, but she is more than something pretty to look at; her face is like quicksilver because of her expressiveness. The slightest arch of the eyebrow, glance of the eye or slight wry smile delivers so much. Again, this is not a bombastic performance of heavy speeches and impassioned pleas, its not that kind of movie. But what Ms. Blunt does do with the role is show the simple humanity of the character with potent subtlety. <br /><br />For example, we see the joie de vivre that has been kept in check by Victoria\\'s mother ( Miranda Richardson) and her scheming adviser/lover Conroy expressed in the simple things like Victoria trying to sketch her dog. We see her delight and fascination upon first meeting Albert by her eyes being continually drawn to him. We see her nervous and overwhelmed when addressing Parliament upon her Ascension. And my favorite scene of all in the film- we see her nervous, happy, and hopeful as she steels herself to do what really most women never have to do in their life- ask the man she loves to marry her, a proposition so ridiculous for those times( and some would say now) that Victoria bursts out in nervous laughter before she can even say \"marry me\". Again, this is not a movie for over the top larger than life expressions, but more a study in the subtleties of a character and making the little things say so much.<br /><br />So, overall, I judge the film by what it is and what it tried to do and as such I give it a 7. I felt that some of the politics could be better explained and that some very fine actors were wasted with little do and little character development, namely Miranda Richardson as the Duchess of Kent, and the characters of Conroy and Lord Peal. Again, the film need not have spent a large amount of time on those characters, but a little more exposition would have helped to explain the political environment. Also I would have loved to have seen more of the adjustment to married life between Victoria and Albert, but that may be just my greed for more scenes between Friend and Blunt. <br /><br />In summary, don\\'t view this film in terms of a historical drama but for what it really is, a love story between two characters that happen to be historical figures. I give this film a solid 7 for wonderful lead performances, brilliant costumes and scenery and the magnificent Victoria of Emily Blunt. And anyone who has any shred of romance left in them, you will be touched by the end of this movie. God save the Queen.'\n",
            " b'Says Andy: \"Nobody gets hurt, everybody wins.\" Before he says it, we know the opposite is true: Everybody gets hurt, nobody wins. This is a new strand in American movies, or perhaps an old strand brought back at long last. Think \"Eastern Promises\", \"There Will Be Blood\", \"No Country for Old Men\". These movies are dark, serious, extremely well made, and don\\'t care about happy endings. I love them. \"Before the Devil Knows You\\'re Dead\" fits the general description, but creates an atmosphere all its own. Kelly Masterson\\'s debut script is as close as a Hollywood movie will ever get to a Greek tragedy. Paying tribute to fellow veteran director Stanley Donen, Sidney Lumet expertly and soberly turns the sombre story into an outstanding, old school character drama. The opening shots, although of an obese accountant doggy-styling his trophy wife, have the look and feel of a Dutch master\\'s painting. By contrast, the drug dealer\\'s condo looks more like a string of Mondrians. Great performances all around. Only Albert Finney\\'s character Charles feels a little over-acted, eyes wide and mouth agape almost all the time. But then he is in trouble deep, deeper than any of the troubles most of us will ever know. For compensation, Marisa Tomei is super hot. But of course you don\\'t need me to tell you that. Why her character Gina would want to be with a guy like Andy, we\\'re never told, but that\\'s okay. Action is character, after all. The unique and magic touch of Carter Burwell\\'s music makes this fine movie a masterpiece. Don\\'t miss it.'\n",
            " b\"The concept was ok but hardly original. The acting was plastic. But the real spoiler was that there was only one joke and a grubby one at that. This is a film for fourteen year olds who have been let out on their own for the first time. Don't dare to watch it with your kids.\"\n",
            " b\"This mindless movie is a piece of crap and boring like the full house repetitions. For all the people who want to see a great, exciting and cool horror movie shouldn't even think about watching this bunch of mindless work. a F- in my opinion. I have one question, what were they thinking? Let's make a list: 1) bad script 2) bad script 3) bad script 4) bad acting 5) bad directing and last but not least a bad script. I mean I am not like grumping about every movie, but I was disappointed when I watched it. This movie should be banned into a box, locked and sunk down into the sea. So please don't do something like this again, please, please, please!!!!\"\n",
            " b\"Since I first saw this in the theater it has been my favorite. Since then I've seen it countless times and I never get tired of it. The setting has a lot to do with it (the Colorado I know would be jealous), but the storyline is original and I liked how it used small town mountain folk as the heroes. There has not been a movie I can compare this too. John Lithgow plays a smart villain, but I love how he is completely out of his element--he has to follow Tucker around and that's what keeps it interesting. This is an action movie at it's BEST. I don't think I'll see another that is so entertaining.<br /><br />You don't need 50,000 rounds fired to qualify as an action movie. It just has to keep you captivated, not shell-shocked.\"\n",
            " b\"I have seen this movie a whole dozen times and it's awesome. But the only thing with it was that in the beginning, there was too much talk of who's going out with who. I think that it would be interesting to do a remake of it. But on the official site, they said that they will not be making a remake of it because so many people have gotten saved when viewing it. What's even happened to Patty Dunning now? She is a pretty good actress. She has done several other movies in the 70s and 80s, but we haven't heard from her since. I know for sure about Thom Rachford, who plays Jerry, works for Accounting at RD Films. But overall, I have to say that the series itself is like Left Behind gone old school.\"\n",
            " b'Well, what can it be said about this disaster? I watched it because it aired on cable. I regret for wasting my time but at least I didn\\'t waste money. <br /><br />The creature is the cheesiest you can get! Please, you need to be very generous not to get angered by the CHEAP Halloween costume. Oh well, there are also displays of horrible acting, f/x, and dialogues. The confrontation with the creature is unbelievable, you can\\'t get a more pathetic scene. <br /><br />This is the worst you can get from direct to video flicks. \"Creature Unknown\" makes FULL MOON PICTURES movies look like \"Halloween\". <br /><br />Avoid this one at all costs, please. The only \"positive\" thing about this trash are the sexy women.'\n",
            " b'What a waste of time! I\\'ve tried to sit through \\'Sky Captain..\" about 6 times, and every time, within about 3 minutes, I start doing something else - anything else! It\\'s a downright boring movie, the acting is terrible, the writing dull, and obviously a first-time director, because it\\'s stiff. And I wanted to love it. I love sci-fi, the old cliffhangers, and I can appreciate the attempt at nods to Flash Gordon, and Metropolis, but my God, what a waste of money. I used to work for Paramount Pictures, and I had written Sherry Lansing in 1993 about using blue screen for screen tests. She told me they\\'d never have an interest or need to do it. 10 years later, Paramount releases this piece of crap. Sherry was right in 1993, but must have forgotten her own advice when she greenlighted this dog. Blue screen an effect shot, but not an entire movie. Let\\'s not forget, neither Jude nor Jolie are terrific actors (but easy on the eyes). Paltrow\\'s performance reminds me of a high school effort. Too bad - it could\\'ve worked, but only under a skilled director. the funny thing is, Sky Captain\\'s director will keep getting work, even after this dreck. It\\'s commerce, not art!'\n",
            " b\"I found this to be a surprisingly light-handed touch at a 1950's culture-clash movie. John Wayne would hardly be one's first choice as a cultural attache, being about as diplomatic with his good intentions as a bull-run in Harrods. But this time he was left to play a part that was far more passive than his usual bluff persona, and he accomplished his task with style. The Duke was a guy who really could act well. His facial expressions and body language could be extremely subtle.<br /><br />Despite his considerable presence both as an actor and in terms of screen time, he failed to dominate this movie. Many of his good intentions came a cropper. He had authority over nobody, and the intermittent narrative was provided by the titular geisha to whom he was the barbarian.<br /><br />The story of American attempts to curry favour with an isolationist Japan was one of political intrigue rather than swashbuckling or hell-for-leather battles. I cannot comment on the accuracy of its research but the strangeness of the Oriental culture to western sensibilities was demonstrated well. There was a great deal of minutely-choreographed ceremony entailing what looked to this observer like authentic costume and props. The set pieces were complex and detailed. A lot of money and thought had been applied to it.<br /><br />The fractured romance between Wayne and his geisha added a little extra element, and stopped the movie becoming just a political or flag-waving effort. Script was good without being too wordy. There was a great deal of Japanese dialogue, but the lengthy periods of translation didn't interfere with the narrative. It was nice to see plenty of genuine orientals on the set. Whether or not they were Japanese, I couldn't say. But anyway they looked the part. At least the leads were not played by cross-dressing Caucasians, unlike other efforts such as 'Blood Alley' (yes, I know they were Chinese) 'The Inn Of The Sixth Happiness' or even 'The King And I'.<br /><br />Frankly, I enjoyed this more than any of those other movies. The script was better for a start. I never liked the songs in 'The King And I', and wasn't impressed by the heavy-laden anti-communist subtext of 'Blood Alley'. I confess to never having seen this work before and found it compared very favourably to many of The Duke's more popular outings.<br /><br />Recommended.\"\n",
            " b'Noel Coward,a witty and urbane man,was friends with Louis Mountbatten.Mr Coward,a long-time admirer of all things naval,was commissioned to write a story loosely based on the loss of Mountbatten\\'s ship.In a peculiarly British way it was considered that a film about the Royal Navy losing an encounter at sea would be good propaganda.It was also considered a good idea to have Mr Coward play the part of the ship\\'s captain.Amang the many qualities needed to command a fighting ship,the ability to speak in a very clipped voice and sing sophisticated \"point\" songs does not come very high up the list at Admiralty House,or at least one would hope not.A captain must earn and retain the respect of the wardroom and the lower deck alike. Mr Coward might have had the respect of the gentlemen of the chorus at Drury Lane and Binkie Beaumont might have been terrified of him but his ability to tame,mould and direct a ship\\'s crew in wartime must be brought into question.He folds himself languorously around the bridge,patronising the other ranks and barking orders at the officers,he only needed a silk dressing gown and a cigarette holder to seem right at home. Much is made of the \"warship as a microcosm of British Society\"theme,and the crew largely comprises of the usual cheery cockneys,canny northerners etc.without whom no war can be fought.They spend most of their time on board smoking,moaning about Lord Haw Haw and getting blown up. Never mind,there\\'s plenty more where they came from.Once ashore they go straight to the pub where they spend most of their time smoking,moaning about Lord Haw Haw and getting blown up .By contrast Mr Coward lives in a dream cottage with a rose covered door somewhere very quiet with very little chance of getting blown up.He,his lady wife and their two rosy cheeked cherubs converse in ludicrously convoluted tones and said lady wife spends much of her time knitting things for the poor unfortunates who comprise his crew and who she refers to by their surnames.That nice young master Johnny Mills has a prominent role as a completely unbelievable lower deck type who worships Mr Coward in much the same way as a thrashed dog will worship its master.He marries his girlfriend after kissing her on the cheek,presumably on the grounds that she might be pregnant after such unfettered passion. So yes,we do have a microcosm of British society here,but perhaps not in the way the makers of \"In which we serve\" intended. At the end Mr Coward gets one last chance to patronise his men as the few survivors shuffle past him,\"Goodbye Edwards,it was a privilege to sail with you\"he enunciates as if he was reciting \"How now brown cow\". It may have been David Lean\\'s feature debut,but the hand of Noel Coward looms large right across this picture.He was a funny and clever man,better suited to writing waspish plays about poor little rich girls and boys interspersed with the occasional wry song.He had a talent to amuse,no doubt,but he could neither write nor speak convincing dialogue. Being Noel Coward was a full-time job,he had no time to be a real person.'\n",
            " b\"I had to register for IMDb just to post a comment on just how awful this movie is...my cats and a ball of string have a better storyline than this. Not the worst acting I've ever seen, but when you wipe out almost the entire cast of the movie within 5 minutes, it leaves a bit to be desired. There wasn't a single 'scare' moment in the movie, with the exception of when they were watching the movie 'Halloween' on the TV. All around, it seems like it could've been a good story, rolling the credits and saying that Chasey Lain was in it was a bit of a loss as I didn't recognize her right away and her scene was already over before I could've said 'oh yeah, there she is'. I'm so glad I saw this in a hotel and didn't pay for it as I'd be real ticked if I had payed a cent to see this. I normally like or can at least find a redeeming factor in a movie, but this one is an exception. It's so bad that it's not even that amusing so-good-it's-bad....it's just plain bad.\"\n",
            " b\"It was a good story, but not very well told. I liked the themes and the main story line, which wasn't as clear as it could have been. Maybe there was too much going on and a lack of ability to reign it all in. The acting was okay to cheesy, some were stronger than others and even the stronger actors had their moments of lesser quality acting. It took me a couple of months to get through the entire movie because it didn't keep my attention and the flow was just bad. I only just finished watching it and I'm glad I did as the movie finally gets moving and has some continuity toward the end. Again, a good story, but the delivery was sub par. Would recommend it for the story line and maybe a little eye candy, and I do mean, a little.\"\n",
            " b'For the first time in years, I\\'ve felt the need to log into IMDb today to cleanse myself of this movie by writing a review, because it was just such a let-down to watch. The plot sounded awesome when I read it, I expected a minimal mystery thriller, a claustrophobic phantom hunt. Unfortunately, it all gets watered down so bad by a mundane, tiring love story and too many contrived and teeth-gnashingly stupid \"no-one-says-things-like-this-except-in-bad-movies\"-dialogs that it\\'s just agonizing.<br /><br />Here\\'s a quick run down of the worst offenses of this piece of film: <br /><br />- The script relies so heavily on coincidences and the inexplicable and inexcusable stupidity of the main characters that it\\'s just laughable. No, actually, it\\'s angering. And lazy.<br /><br />- Related to that: Cheap thrills. A long parade \"just in time\" moments.<br /><br />- The main characters. Alright, it seems that the screenwriter has never experienced actual human beings in real life, but instead has gained all his knowledge from bad movies. Thus, his characters are boring, lifeless second generation clich\\xc3\\xa9s. They are mere plot-devices, place-holders without the slightest bit of personality. They are \"man and woman in break-up who still love each other\". Never seen that one before except in 100,000 movies and it\\'s not getting any more realistic or enjoyable. Think of the blandest two-dimensional Hollywood fare and you\\'ve got it. There is not one character in this movie that is even remotely fresh, charming, or interesting.<br /><br />- The far-fetched, vague resolution that\\'s swaying very bad and needs just one nudge to topple, though the word \"resolution\" might be ill-fitting here, because the movie is a swampy mess that isn\\'t going anywhere anyway. By the time you\\'re through, though, you don\\'t care anymore. The last third of the movie I just fast-forwarded, because it was just so unbearable to watch.<br /><br />Okay, that\\'s it. Whatever redeeming features this movie has, it all gets buried under incompetence. Don\\'t watch this turd.'\n",
            " b'I watch most movies that Nick Mancuso is in because, frankly, I love the guy, even though as he ages he is typically cast as the baddie (long-time fans should note that he is for some reason blond in this flick). It\\'s a fairly familiar movie in terms of plot (but then most movies these days aren\\'t exactly original), but Rick Roberts is appealing as the imperfect husband, Martha MacIsaac is equally appealing as the daughter, and Mitzi Kapture does a good job, if that was her goal, of being angry and sometimes pretty hard to like. Nick has still got it in terms of being able to demonstrate both charm and psychosis. However, too much of the plot takes place off-screen -- like motivation, prior behaviors, good times and bad times -- and things that seem apparent to the characters never quite make it to the audience (i.e., me). The final scene leaves everything to be desired in the \"but what about...\" category, and overall, I can\\'t say that I cared much about any of the characters. That being said, it was what it was -- a reasonably entertaining way to spend the afternoon -- and I still like Nick.'\n",
            " b\"Don't waste your time or money on this one. The half decent cast might fool you into thinking that this teen-thriller, whilst hardly about to break any records, might lightly entertain for 80 minutes.<br /><br />It won't.<br /><br />It won't make you scared, laugh, cry or even challenge your intellect. It will leave you wondering how on earth this movie ever finished production. Yes, it really is that poor.\"\n",
            " b\"This movie has such inexorable B class cheapness to all its scenes, effects etc as to make you think they spent 80% of their budget on Connery. It's like watching some Wing Commander stuff after Star Wars (quite apart from content).<br /><br />Story can be described in one word: FLAT. And oh my God I can't remember a villain so uninteresting since long long ago. We're given neither a reason he's so wicked (an inborn defect, we're lead to think:) nor any real convincedness or flair to his wickedness.<br /><br />If you're out for Connery rather go rent `Hunting Forrester'.\"\n",
            " b\"This is a low-budget spoof of the espionage genre. To help frame your expectations, you should know that: (1) The acting is wildly heavy-handed. The stars are having great fun delivering their lines with excessive eye movement, frequent hand gestures, and off-key pacing. (2) The script deliberately lacks continuity and plausibility. Oftentimes lines are abruptly jarring and humorous because they have absolutely no relevance to previous plot elements. (3) Shots are frequently framed in off-balance angles, poking fun at genre excesses. (4) A pop-eyed Jeff Goldblum delivers complex and classically preposterous dialog in a winningly sarcastic manner.<br /><br />The film has a guiding intelligence, deliberately starting with a plot element stolen from the B-films of the 1930's: a secret code with a structure that would defy explanation by Carl Sagan. The film's over-the-top acting is used mostly for comic effect during the first 90 minutes. In an early running gag, Fay Grim's son Ned is so frequently told to leave that you can't help chuckling while feeling sorry for the lad. Parker Posey's nicely choreographed fall from bed also helps set a humorous tone early in the film.<br /><br />The film's slow pacing does not enhance the comedy elements or the drama elements that later emerge. The film's impact as drama is significantly lessened by the early comedy. Moreover, it is hard to be overly involved with the characters and their fates when the early portions of the film are so sarcastic. The musical score is intentionally heavy handed, and I found this (and the off-kilter camera angles) more irritating than humorous.<br /><br />The over-the-top acting, the implausible and nearly incomprehensible plot of conspiracies/counter conspiracies, and the slow pacing will grind on many viewers. The movie is much too long at 158 minutes.<br /><br />That said, fans who are receptive to the film's sarcasm might want to watch again ... using closed captioning to best catch the intelligent ridiculousness of the dialog. The film was too slow for me and the sarcasm felt more heavy-handed than light-hearted. But, the comedy may well appeal to your tastes. The film is worth a view for those who enjoy independent films, fans of director Hal Harley, or devotees of Parker Posey (who has the most camera time).\"\n",
            " b\"I watched this show and i simply didn't find it funny at all. It might have been the first episode. Lately i realize ABC is playing a lot of stupid shows nowadays and is going down as a station. All the characters on this show are pretty bad actors, but even if they were good the jokes and script are pretty horrible and would still bring the show down. I would say that I believe this show will be cancelled, but seeing as how ABC is doing pretty horrible for quality of shows they are playing, they might just keep this one simply because it's average compared to them.\"\n",
            " b'NB: Spoilers within. This great movie is \"about\" so many things, all of them successfully: sci-fi time travel, unstable psychologies, dystopian society, the what-is-real syndrome, gradual undermining of belief systems, worldwide bioterrorism, and a nascent love story.<br /><br />The ramifications of the story\\'s twisted time line stir up loads of heated debate - witness the discussions within this site; or, as an extreme, check out the dissertation at www.mjyoung.net/time/monkeys.html. Whew! Such temporal emphasis speaks mostly to the brilliant plot, coming from the magnificent work of writers David and Janet Peoples, not to mention the inspiration of Chris Marker\\'s \"La Jetee.\" Without a doubt, this is one of the most successful, fascinating time-travel movies ever conceived. But there are many other levels speaking here.<br /><br />The movie\\'s real genius is to focus on the nasty side effects of time-travel in the mind of James Cole (Bruce Willis, doing the best work of his career here). His journey progresses from gung-ho vaccine-hunting warrior to gradually unhinged victim \\xc2\\x96 and back again. The other broad sweep of the story increasingly emphasizes the personal tale between James and Dr. Kathryn Railly (the wonderful Madeleine Stowe). I love the simultaneous shifting/opposing viewpoints of these two characters. For me it all comes to a head in the fleabag hotel room scene. By this point, James \\xc2\\x96 once gripped by an unshakable determination \\xc2\\x96 now slumps in utter doubt about his own reality; while Dr. Railly \\xc2\\x96 the cool and rational scientist \\xc2\\x96 has finally become wildly convinced, after absorbing James\\'s proofs, of his horrific predictions. Her desperation to get through to James and hang on to the mission shows how far she\\'s come.<br /><br />Gilliam makes us care about these characters, especially through the crescendo of tension threading their lives. The balance held between emotional roller-coaster and mounting sci-fi puzzle/thriller is exquisite. And the denouement at the airport is heart-poundingly intense because we see it coming so clearly through James\\'s dreams. It is here, just after James has decided to quit the whole mess \\xc2\\x96 and is fighting his insanity more than ever \\xc2\\x96 that he steps back up to the plate and does what is necessary for mankind. See Jose and the gun\\xc2\\x85 (Just before this, the references to Hitchcock\\'s \"Vertigo\" and identity switching/confusion are brilliant.) This is a movie to be hashed out between thinking people; it not only holds up under repeated viewings, it demands them. \"Twelve Monkeys\" is intelligent, provocative, bizarre, funny, and suspenseful stuff.<br /><br />The supporting cast is excellent, especially Brad Pitt stealing all of his scenes and showing great flexibility as Jeffery Goines, crazed and spoiled, but ever the survivor. And there is David Morse as Dr. Peters (interesting how the movie simply leaves to the viewer his wicked motivation) and Christopher Plummer as Dr. Goines. But the biggest accolades belong to Terry Gilliam, surpassing here - just barely - his outstanding \"Brazil.\" (Lots of parallels, of course, especially the lonely combatant trying to escape his crumbling surroundings: lunacy within, lunacy without.) Every frame of this movie has his unique stamp and tone. The soundtrack is terrific, too.<br /><br />This is one of the great achievements of the 90s, a true favorite of mine, and sure to hold up for a long time to come.'\n",
            " b'I saw that when I was little and it was excellent. Kelsey White as Lisa and the Meecy Mices where cute. Susan Bonde as Doodle and Sandra Dee Heidecke as Snoodle where Hilarius. Karen Boettcher-Tate as Profster was interesting. Burl Ross as Little Bunny Foo Foo was funny. Gregory Donavon as Kaiso was brilliant. Whats Hilarius that Snoodle and Doodle eat too much candy. Whats sad that Little Bunny Foo Foo that bops the Meecy Mices on the head then by a fairy will give Little Bunny Foo Foo few wishes then he turns into goon. This story is about when Lisa, Snoodle, Doodle go to the Big Rock Candy Mountains. This show is excellent the kids will like this show, new words, songs, and watching them playing.'\n",
            " b\"I'm sure that Operations Dames was a favorite at the drive-ins back in the day. There's absolutely nothing in the way of a plot that you might miss if you were otherwise preoccupied. And if you needed to get in the mood for other activities you did have some curvaceous cuties on screen to get you in the mood.<br /><br />Otherwise there ain't a whole lot that Operations Dames has going for it. It's set in the Korean War where a platoon of GIs together with a British tommy gets a little too far forward and has to get back to the UN lines. Bad enough already, but these guys also come across a stranded bunch of USO girls and their choreographer in the same predicament.<br /><br />You know what's sad about this film is that it took women generations to finally get accepted in the Army and in combat situations. These bimbos from the USO set women's liberation back light years. In fact not even the hard bitten professional soldier who is the sergeant in charge of these men can keep it in his pants.<br /><br />But that was probably the better to remind some what they were at the drive-in for. This no name cast is better off with me not recognizing any of them for any individual effort.<br /><br />Operations Dames is definitely a team flop.\"\n",
            " b'\"Shower\" is an story about loyalty, about the unstoppable advance of modern world in the detriment of rather traditional and more human ways of life. A man forced to choose between his successful career in business, his big-city life, his wife, and his retarded young brother. The eternal doubt between what we WANT to do and what we SHOULD do. The modern China versus the ancient one. The public baths with its gatherings, its cricket fights versus the shopping centres and the skyscraper. Lots of old men and women that are no longer needed. China, one country, two systems, as Xiao Ping said ... though one of them is killing the other. <br /><br />Tender, moving, full of funny moments, and of bitter-sweet ones.The sensitive ones will cry and laugh equally. The actors are enormous, especially the one who performs the role of the retarded boy; and Yang Zhang makes a good job, easy, simple, letting the story just flow by itself.<br /><br />My rate: 8/10'\n",
            " b\"This is the version that even the author hated, because it's so schmaltzy. They gave it a 'happy ending' and changed a lot of the dialogue, and it's just a big pile of saccharine. The 'stage manager' is quite good, I believe he originated the role, but everyone else falls into that acting style of the 40's that is really just posing. The one great feature- the music. This has one of the best scores ever recorded, and it's worth seeking out in a record shop. Overall I think the 1989 Spalding Grey/ Eric Stoltz/ Penelope Miller version is far superior.\"\n",
            " b\"OK heres what I say: <br /><br />The movie was excellent. I am a huge Nancy fan and I have read all 1-56 original books and I went on to read more. I am now on 96. Beware of villains giving this movie a lower grade than it should have. All clues point to a wonderful movie! I loved the whole thing. So what Nancy is in current time. She is still old fashioned like she is in the books! People who haven't read more than 5 books are complaining about the view of Nancy. I have read all of them and I think Emma is perfect and that Nancy was perfect. I found parts of the movie spooky. I loved the exciting car chases and get aways. I loved the clues. I solved the mystery myself! It was really wonderful. I suggest you go see it since people who have been complaining know nothing of A what a good movie is and B about Nancy Drew. Go see it. It may not be Oscar worthy but its really a good movie.\"\n",
            " b\"This film is horrible. Bad acting, bad writing, bad music. It's just horrible. Not only is it incredibly misrepresentative of role-playing games, but the key elements of the film are poorly executed. May the God I don't believe in have mercy on the souls of the miserable wretches who conceived and gave birth to this abomination.\"\n",
            " b'I was sooooo excited to see this movie after finally reading the book this week. My 13 year old son was looking forward to it too. I rented it and snuggled down to enjoy a classic holiday story brought to life on screen.<br /><br />Boy, was I disappointed. This movie veered off from the book more times than is forgivable. George C. Scott is an excellent actor but in this, it seemed that he was fully into character only about 20% of the time. The rest of the time he was quite flat.<br /><br />I realize that this was made in \\'84, pre-CG effects, for the most part. But it looked to be very B-movie quality, especially the encounter with Jacob Marley.<br /><br />The biggest disappointment was the fact that they left out one of the most moving parts of the story: When the Spirit of Christmas Present takes Scrooge on the whirlwind tour of the world, observing people in the bleakest of circumstances still having the light and love of Christmastime.<br /><br />I will admit that Mr. Scott did a good job with the \"reformed\" Scrooge at the end. That was a refreshing portrayal.<br /><br />I wish that Bob Cratchit had been portrayed as a little more ragged and down-trodden. And Tiny Tim... oh don\\'t even get me started on bad child actors...'\n",
            " b\"This was my first introduction to the world of Bollywood and I'm now hooked! Okay so it requires adoption of a different mindset to watching US films but once you allow yourself the pleasure of enjoying it for what it is you won't be disappointed. The songs are superb, melodic and very catchy. The actors are visually compelling especially Karisma Kapoor who is surely one of the most beautiful actresses anywhere in the film world. Locations, colour are spellbinding. If you want something different and are looking to be uplifted, cheered up and stimulated I recommend you catch this movie.\"\n",
            " b'Not to be confused with the Madonna film \"The Next Best Thing\", \"The Last Big Thing\" is a silly, campy, off-the-wall comedy about a man who yearns to start a magazine called \"The Next Big Thing\" which reviews a variety of up and coming artists. This low budget indie makes \"Chuck and Buck\" look like a masterpiece. Fraught with lousy acting, poor sets and costuming, etc., \"...Thing\" has earned some awful reviews and to date has only been nominated for one fringe award. Pass on this one.'\n",
            " b'I just saw this movie today with my children (son, 10 and daughter, 4.5) at the 3rd Annual Roger Ebert Overlooked Film Festival. After the film the children in the audience were allowed to ask questions to the Director, Tian-Ming Wu. He (through a translator) told several stories about his life and the making of the film.<br /><br />All tangents aside, both of my children really enjoyed this movie. Of course, I had to paraphrase many of the subtitles for my daughter, but much of the film is visually self-explanatory.<br /><br />I won\\'t give anything away, but the bottom line is that this film is SO MUCH better than 95% of the Hollywood crap (especially children\\'s films) out there.<br /><br />Cheers.<br /><br />p.s. There is a \"real\"/original King of Masks who can/could do 12 masks at once. The actor in the movie trained and learned to do up to 4 masks at a time (then they would cut and change to 4 new masks).'\n",
            " b\"From beginning to end, this is the most emotionally overwrought movie about NOTHING I have ever seen. The characterizations and interactions between the title character and Marthe Kller's character are pure torture. The racetrack as metaphor gimmick is so overplayed that it borders on cliche, yet director Pollack treats every hairpin turn as if it were something profoundly important.<br /><br />Maybe there's some value for a MSFT3000 re-playing of some of the scenes, such as Pacino getting in touch with his inner female, for goof value. But, even such accidental humor is hard to find in this total turkey.\"\n",
            " b'The second Care Bears movie is immensely better than its predecessor. It has a deeper plot, better character development, and the tunes (especially the closing song) are both catchy and warm-hearted. Sure the movie tends to over stress caring but come on, it IS a Care Bears movie. This movie is a great picture to show to kids because it emphasizes friendship, love, and again, caring. Not to mention the Care Bears are just too adorable!'\n",
            " b\"Escaping the life of being pimped by her father(..and the speakeasy waitressing)who dies in an explosion, Lily Powers(Barbara Stanwyck, who is simply ravishing)sluts her way through the branches inside a bank business in big city Gotham. When a possessive lover murders who was supposed to be his next father-in-law(and Lily's new lover), the sky's the limit for Lily as she has written down her various relationships in a diary and subtlety makes it known the papers will receive it if certain pay doesn't come into her hands. Newly appointed president to the bank, Courtland Trenholm(George Brent), sends Lily to Paris instead of forking over lots of dough, but soon finds himself madly in love after various encounters with her in the City of Love. This makes Lily's mouth water as now she'll have reached the pedestal of success seducing a man of wealth and prestige bring riches her way. Though, circumstances ensue which will bring her to make a decision that threatens her successful way of achieving those riches..Trenholm, now her husband, is being indicted with jail certain and has lost the bank. He needs money Lily now has in her possession or he'll have absolutely nothing.<br /><br />Stanwyck is the whole movie despite that usual Warner Brothers polish. Being set in the pre-code era gives the filmmakers the chance to elaborate on taboo subjects such as a woman using sex to achieve success and how that can lead to tragedy. Good direction from Alfred E Green shows through subtlety hints in different mannerisms and speech through good acting from the seductive performance of Stanwyck how to stage something without actually showing the explicit act. Obviously the film shows that money isn't everything and all that jazz as love comes into the heart of Lily's dead heart. That ending having Lily achieve the miraculous metamorphosis into someone in love didn't ring true to me. She's spent all this time to get to that platform only to fall for a man who was essentially no different than others she had used before him.\"\n",
            " b'Samuel Fuller is an interesting filmmaker, mainly because he had some very inconsistent politics in his films. While \"Shock Corridor\" and \"The Naked Kiss\" represented the hypocrisies and lunacy of America and \"The Big Red One\" was an effective portrait of the horrors of war, \"Merrill\\'s Marauders\" painted war as necessary hell and \"Pickup on South Street\" is about the dangers of communist spies. All of his films make for very entertaining viewing, and even though he was often pigeonholed as a b-filmmaker, Fuller was just as good as any of the major studio contractors. \"Pickup on South Street\" is no exception, and despite the dated themes, the film-making style is remarkably ahead of its time. Its also a very quickly-pace, tight, and occasionally brutal film noir.<br /><br />The acting across the board is fantastic. Richard Widmark makes for a great anti-hero and Jean Peters is quite sexy as a girl who works for her communist spy boyfriend. The show stealer is Thlema Ritter however, in an absolutely delightful performance as a police stoolie. The angles Fuller employs are great, making the acting sequences all the more exciting and brutal (this is very violent for its time). The camera continuously moves around just as Tarantino and his school would do forty years later. \"Pickup on South Street\" is a great action-paced noir thriller. \"Shock Corridor\" remains my favorite Fuller film, but this is a very close second. (8/10)'\n",
            " b'I simply never tire of watching FREEBIRD. My husband was an extra so I was involved from the start. Have kept in touch with Jon and have helped out with promoting the film both in Cinemas and now the DVD release. Even to the extent of distributing promotional postcards on cross channel ferries and various places throughout France. FREEBIRD was expertly written and directed with the perfect combination of fun and serious moments plus choice casting. Only Phil Daniels could fit the role of Grouch. Great privilege to meet Jon and the cast at the party following the premier in January. Anything else you want doing Jon just ask, either email or phone, you know how to get me. Sue xx'\n",
            " b'I caught \"Sorrows Lost\" at the New York Film and Video Festival and I guess I had some high hopes for this film. Sadly, this is just another Visual FX calling card. The story is pretty lame. The bad lighting and camera work, along with the less than great editing and music all make the film seem low quality.<br /><br />Is it really too much to ask that FX shorts have better stories and have the rest of the technical production be on par with the FX! You can\\'t just get away with cool FX in shorts anymore, it\\'s been 5 years since \"405\" made a big splash. At least that short quick, cool and was even a little funny! None of that can be said about \"Sorrows Lost.\"'\n",
            " b\"A thin story with many fine shots. Eyecatchers here are the three ladies from the D.R.E.A.M. team. And, to a lesser extent, the guy accompanying them. Traci Lords convincingly acts out the female half of an evil business-couple intending to poison the world with antrax. Original in this movie is the bra-bomb, put on a captured member of the D.R.E.A.M.-team. Of course she is rescued by a co-member, three seconds before explosion. Although clearly lent from James Bond's 'Goldfinger' and 'You only live twice', such a climax always works well. All in all a nice watch, James Bond replaced here by three Charlie's Angels.\"\n",
            " b\"I barely remember this show, a little ,but I remembered it was great! My eldest brother, reminded me about the show recently and I had seen an advertisement for the D.V.D set coming out. The network, again screwed up in pulling this from the air, so that they could put what else in it's place? It should have gone at least 3 seasons. Why not, right? I think sometimes that the network executives think they are the 'gods' of the entertainment world. But they mis-guess and flat out miss good show placement from time to time. Let it be said that, they have a lot more flops than 'hits'. This was one of the poor decisions to cut from the line-up. Anyhow, I am getting this for my collection.\"\n",
            " b\"Maybe you shouldn't compare, but Wild Style and Style Wars are original Hip Hop. Beat Street does have a lot of the original artists of early Hip Hop, but they've been obviously made clear that this could be their big break, of course for some it was and that's nice. But if you view this as original Hip Hop Culture you're wrong. It's overproduced and has a Hollywood sauce. Rather look for the first two movies i mentioned. They have convey the grittiness that comes with life in the ghetto. Yes, the rating for this movie is low, but the reviews are mostly positive or even raving. This is probably because although the story, the acting, the dialogues and the direction all are dreadful, the music and dancing is what the people love about it. Me, i do love the dancing but at the time thought that electro was the death of Hip Hop (i was so glad when round '86 a new generation of now classic Hip Hop artists appeared, like Krs One, Public Enemy, Ultramagnetic Mc's, Jungle Brothers, Bizmarkie to name a few), and i still don't like most of the beats in this movie and that is why it doesn't work for me. I mean, Wild Style has not much of a story but the music there is great and authentic. Of course tastes differ and that's alright. But as far as i'm concerned, this movie is trash except for the break dancing and some of the music and so i can't rate it higher than a 4 out of ten.\"\n",
            " b'This is a splendidly done simplistic film that explores a theme, and gives each viewer something different that they take from it. The premise is simple: an unnamed celebrity actor (Morgan Freeman) decides to research for an upcoming role by visiting a store and watching people. He takes particular interest in the cashier at the \"10 Items or Less\" lane (Paz Vega), who he finds an amiable, strong, and curious presence.<br /><br />Both actors play off each other brilliantly and bring solid dimension to characters in what is a character study. Not a conventional character study; they each represent entire worlds. The cashier\\'s life is mired in a harsh and frustrating \"real world,\" while the actor is so enmeshed in his fantasy existence that he can\\'t do simple tasks like remember phone numbers. He readily admits he\\'s putting on a face when he talks to people, and the whole point of researching real people shows he\\'s not one of them.<br /><br />But not only is the actor inspired by real people for his work; we see the reverse process as well. Several characters recognize \"Him,\" and make reference to how he has inspired them with his movie roles.<br /><br />The cashier\\'s favorite song \"Al Pasar la Barca,\" about how a girl refuses to hide behind beauty and prefers instead to pay (ie: do honest work) for boat passage, couldn\\'t have been chosen better. It parallels with the Vega character, the only store employee with any brains or ambition, who is willing to work hard to succeed. (That\\'s quite an aspiration, for somebody who looks like Paz Vega.) It\\'s an odd little film, probably made on a shoestring. If you don\\'t mind slow pacing and a \"talky\" approach, this film will entertain. The characters are perfectly contrasted, and the effective acting makes them endearing. A nice watch.'\n",
            " b\"Bruce Almighty, one of Carrey's best pictures since... well... a long time. It contains one of the funniest scenes I have seen for a long time too... Morgan Freeman plays God well and even chips in a few jokes that are surprisingly funny. It contains one or two romantic moments that are a bit boring but over all a great movie with some funny scenes. The best scene in, it is where Jim is messing up the anchor man's voice.<br /><br />My rating: 8/10\"\n",
            " b\"After the unexpected accident that killed an inexperienced climber (Michelle Joyner). Eight months has passed... The Rocky Mountain Rescue receive a distress call set by a brilliant terrorist mastermind Eric Quaien (John Lithgow). Quaien has lost three large cases that has millions of dollars inside. Two experienced climbers Walker (Sylvester Stallone) and Tucker (Micheal Rooker) and a helicopter pilot (Janine Turner) are to the rescue but they are set by a trap by Quaien and his men. Now the two climbers and pilot are forced to play a deadly game of hide and seek. While Quaien is trying to find the millions of dollars and he kidnapped Tucker to find the money. Once Tucker finds the money, Tucker will be dead. Against explosive firepower, bitter cold and dizzying heights. Walker must outwit Quaien for survival.<br /><br />Directed by Renny Harlin (Driven, Mindhunters, A Nightmare on Elm Street 4:The Dream Master) made an entertaining non-stop action picture. This film is a spectacular, exciting, visually exciting action picture with plenty of dark humour as well. This was one of the biggest hits of 1993. This is one of Harlin's best film. Lithgow is a terrific entertaining villain. Stallone certainly made an short comeback of this sharp thriller. This is probably Harlin's best work as a filmmaker.<br /><br />DVD has an sharp anamorphic Widescreen (2.35:1) transfer and an terrific-Dolby Digital 5.1 Surround Sound. DVD has an running commentary track by the director with comments by Stallone. DVD also has technical crew commentary as well. DVD has behind the scenes featurette, two deleted scenes with introduction by the director and more. Do not miss this great action film. Screenplay by Micheal France (Fantastic Four) and actor:Stallone (The Rocky Series). Based on a premise by John Long. Excellent Cinematography by Alex Thomson, B.S.C. (Alien\\xc2\\xb3, Demolition Man, Legend). Oscar Nominated for Best Sound, Best Sound Editing and Best Visual Effects. Panavision. (****/*****).\"\n",
            " b\"I'd never heard of this movie, but boy was I surprised when I caught it on TV. Great cast, great acting. Excellent movie! How can a movie with William H Macy, Neve Campbell and Donald Sutherland go wrong? I wonder why I never heard of it before.\"\n",
            " b'Time paradoxes are the devil\\'s snare for underemployed minds. They\\'re fun to consider in a \\'what if?\\' sort of way. Film makers and authors have dealt with this time and again in a host of films and television including \\'Star Trek: First Contact\\', the \\'Back to the Future\\' trilogy, \\'Bill and Ted\\'s Excellent Adventure\\', \\'Groundhog Day\\' and the Stargate SG1 homage, \\'Window of Opportunity\\'. Heinlein\\'s \\'All You Zombies\\' was written decades ago and yet it will still spin out people reading that short story for the first time.<br /><br />In the case of Terry Gilliam\\'s excellent film, \\'12 Monkeys\\', it\\'s hard to establish what may be continuity problems versus plot elements intended to make us re-think our conception of the film. Repeated viewings will drive us to different conclusions if we retain an open mind.<br /><br />Some, seeing the film for the first time, will regard Cole, played by Bruce Willis, as a schizophrenic. Most will see Cole as a man disturbed by what Adams describes as \\'the continual wrenching of experience\\' visited upon him by time travel.<br /><br />Unlike other time travel stories, \\'12 Monkeys\\' is unclear as to whether future history can be changed by manipulating events in the past. Cole tells his psychiatrist, Railly (Madeleine Stowe), that time cannot be changed, but a phone call he makes from the airport is intercepted by scientists AFTER he has been sent back to 1996, in his own personal time-line.<br /><br />Even this could be construed as an event that had to happen in a single time-line universe, in order to ensure that the time-line is not altered...Cole has to die before the eyes of his younger self for fate to be realised. If that\\'s the case, time is like a fluid, it always finds its own level or path, irrespective of the external forces working on it. It boggles the mind to dwell on this sort of thing too much.<br /><br />If you can change future events that then guide the actions of those with the power to send people back in time, as we see on board the plane at the end of the film, then that means the future CAN be changed by manipulating past events...or does it? The film has probably led to plenty of drunken brawls at bars frequented by physicists and mathematicians.<br /><br />Bonus material on the DVD makes for very interesting viewing. Gilliam was under more than normal pressure to bring the film in under budget, which is no particular surprise after the \\'Munchausen\\' debacle and in light of his later attempt to film \\'Don Quixote\\'. I would rate the \\'making of\\' documentary as one of the more interesting I\\'ve seen. It certainly is no whitewash and accurately observes the difficulties and occasional conflict arising between the creative people involved. Gilliam\\'s description of the film as his \"7\\xc2\\xbdth\" release, on account of the film being written by writers other than himself - and therefore, not really \\'his\\' film\\' - doesn\\'t do the film itself justice.<br /><br />Brad Pitt\\'s portrayal of Goines is curiously engaging, although his character is not especially sympathetic. Watch for his slightly wall-eyed look in one of the scenes from the asylum. It\\'s disturbing and distracting.<br /><br />Probably a coincidence, the Louis Armstrong song \\'What a Wonderful World\\' was used at the end of both \\'12 Monkeys\\' and the final episode of the TV series of \\'The Hitchhiker\\'s Guide to the Galaxy\\'. Both the film and the TV series also featured British actor Simon Jones.<br /><br />\\'12 Monkeys\\' is a science fiction story that will entertain in the same way that the mental stimulation of a game of chess may entertain. It\\'s not a mindless recreation, that\\'s for sure.'\n",
            " b\"Ok, so, this is coming a few weeks late, but it is here. Mostly, this is because of statements of various negative natures. Starting with the technology. When Star Trek: TOS ran, special effect technology was extreamely low tec, and more than that, the crew had little money to do any kind of proper mock ups. In the 35 years seince TOS premiered, the crew of Star Trek have become experts at economy.<br /><br />Ultimately, they have decided, quite rightly in my mind, to abandon the look of TOS and reverse engineered TNG et all. So what if they decided not to make the transporter out of gold glitter or made the phase pistols look closer to the ones from Star Trek II? As for the nits being picked about first contact with the Klingon Empire, it was presumed based upon comments made by Kirk and Riker that Earth only met the Klingon's in 2200. Nothing was firmly established.<br /><br />Enterprise gives us the most promising venue of exploration that we've seen in a while. This is what Voyager COULD have been. No series can evolve without a few inconsistancies, but be thankful that Star Trek has so few. So, quit gripping and enjoy.\"\n",
            " b\"The shame of it! There I was, comfortable in the arm chair with a beer and a bag of popcorn, bouyant in the hope of another splendid Muppet night of entertainment. What did I get? Disappointed! How can the Muppets go from the sublime Christmas Carol to this? The humour was dreadful, the songs were worse than Country and Western (and that's saying something) and the plot was as confused and poor as Blind Pew. I think the main problem was that they bit off too much in attempting Treasure Island. A short tale, such as Christmas Carol, is perfect because you can weave the Muppet high jinks around it....here the need to drag the plot along stopped all the fun. Where do the Muppets go next? How about Muppets Wizard of Oz?\"\n",
            " b\"There is something about Pet Sematary that I never felt anywhere else. Maybe the fact I was a kid when I first watched it made this experience so memorable. But as I keep watching it over and over again, it never gets old, and I never get bored. From the opening credits with that creepy opening song to the very chaotic ending, there is something insane, sad and scary at the same time, and it keeps ringing in your head: sometimes dead is better! <br /><br />I don't think it would be useful to relate the whole story again. All you need to know is it starts from point A (the most perfect situation for a happy American family) and step by step drowns to point B (which is, believe me, the very end of all joy). The music is perfect, the story makes sense, the special effects are cool, and the Pet Sematary is the last place on earth I would be. Like I said, sometimes dead is better!\"\n",
            " b'Yes, I was lucky enough to see the long-running original production of Michael Bennett\\'s hit musical. It was an amazing experience and I paid to see the movie when it hit theatres back in 1985. It is awful. Almost everything fails. First off, Attenborough (a fine actor, a good director with the right material) is a sorry choice - almost as bad as when John Huston was hired to mangle ANNIE. The camera is always in the wrong place - they chop up the songs and the CASTING!!! They are awful - the power of the play was these dancers - these hungry, talented performers just wanted a chance to show what they could do and when they got their chance - you couldn\\'t take your eyes off of them. But this cast just gets by dancing, does a \"nice\" job singing but none of them spark one bit. In fact, look up the cast on IMDb - none of them really went on to do anything much. (OK, OK, Janet Jones married Gretzky - sheesh). So this cinema trainwreck does not capture for one second the magic, the desperation, the passion of the stage musical. A total strike-out! (But even though they try to smother the music - the great music still rises up at times and reminds people how great the score was).'\n",
            " b\"Surprisingly well done for an independent film, An Insomniac's Nightmare paints a startling picture of what it would be like to suffer from insomnia. Wonderfully well written, and directed, it creates the atmosphere of a dream as the viewer is taken through one night in the life of an insomniac.<br /><br />Starring Dominic Monaghan as Jack, we get to see everything he sees as the long hours of a lonely night drag on. The narration is almost hypnotizing, and from the opening lines, it is impossible to turn away. Fascinating and slightly disturbing, it shows how someone copes with a lack of sleep, balancing on the brink between sanity and madness.<br /><br />With twists and turns around every corner, An Insomniac's Nightmare is provocative and engaging. It comes very highly recommended.\"\n",
            " b\"Full House is one of the worst TV series ever! Why?Because all the characters are so irritating that it's impossible to bear.The best character is Joey an even he is pretty irritating occasionally.An that girl DJ,who wrote her character?I want to kill my self every time she speaks.Not to mention when Danny start's with his philosophy.<br /><br />Example: DJ won around ten thousand dollars or more in the casino.However,she's not eighteen so she shouldn't gamble according to law.However the casino was ready to pay her the money but then Danny,her father cought's her and don't let's her raise that money because she is not eighteen.Oh come on,give me a break,will ya?Since i've seen that stupid and childish scene i instantly turned off the television.Some of the thing's they say in this series not even a child would bought.Who in the world could think that Full House is entertaining and funny?Every single word they say in this series seem's like Shakespeare wrote it.Except that Shakespere knew how to write and except that he wouldn't be that childish and stupid to write something as stupid as they wrote in the script for the Full House! <br /><br />For everyone who has a bad heart or any kind of bad medical condition or any will for life or any sense of the real world,i deeply recommend 'Do not watch the Full House'!Not even one episode as a try out.Avoid this series.Save your self from stupidity and nonsense.This is the worst television show ever!I'd rather watch Teletubbies then this.'Do not watch this'.\"\n",
            " b\"I enjoy all the versions of this story but this one is my all time favorite. George C.Scott gives a depth to the Scrooge character that the others do not give. The movie shows more about why he becomes so bitter. The changes in Scrooge appear gradually as he encounters the different ghosts and the incidents that they show him. <br /><br />This movie has the best Tiny Tim by far. He is the right age rather than being played by someone who is almost a teenager as in the other films. Anthony Walters still has all or most of his baby teeth. <br /><br />David Warner is wonderful as Bob Cratchit. He is such a versatile actor. He portrays a man who clearly loves his family. He plays the role with dignity neither as a wimpy man cowering under Scrooges'thumb but as a man who gracefully puts up with it because he has a family to provide for. Susannah York and the other actors do a fine job of bringing the characters to life. Edward Woodward is the best Ghost of Christmas Present I've ever seen. Most often he is played as a jolly Santa type character. In this he shows anger at Scrooges attitudes and really makes Scrooge reconsider. <br /><br />The costumes and the sets really bring the London of Dickens time to life. A wonderful movie.\"\n",
            " b'Don\\'t read anything about this movie (especially nothing that could contain any spoilers). Just watch this awesome movie without knowing anything about it - and you\\'ll have a really great experience. If you like to see an intelligent, twisted story: Go, get the DVD and you\\'ll truly not be disappointed. \"Cypher\" is not really a sci-fi movie, more a psycho thriller settled in the environment of globalized business. It\\'s about corporate secrets, how big companies spy each others research departments and the methods used by them. The actors do a great performance and the overall visual style of the movie provides a perfect mode of coldness. Cypher is much deeper, more complex and - what belongs the story and the ending - also much, much more satisfying than Vincenzo Natali\\'s other movies \"Cube\" and \"Nothing\". Actually it\\'s one of the best movies I\\'ve ever seen (and that\\'s something I really don\\'t say this about every fifth well-made flick). Sorry, can\\'t tell you anything more about this movie without risking to hurt your experience. Just give it a chance. ;-)'\n",
            " b\"This is one of the worst films I've seen. The only positive thing I can say is it was so bad that is seemed comical. First off, there's no plot. The actors appear to be reading off cue cards and do the dumbest things. Such as being chased by dead people but yet wanting to go out and look for their friends. Also the zombies were terrible, no where near as fun as any of Romero's work, who gets s plug in the movie. And the dumbest part of all was they kept showing flashes of the video game in the action sequences. Like we don't get the video game is about shooting zombies. Also, all the 20 somethings some how know how to use automatic weapons and hit a target without even aiming the gun. And the way the people die is so stupid. It's like they run out of ammo so stand around waiting to be jumped on. And when cornered in front of the house they run out of ammo instead of shooting the door open, So dumb.<br /><br />FINAL VERDICT: If any of these actors appear in another film, then they've been blessed with a second chance. Definitely the worst film I've seen in years. A B-movie on cinemax is better.\"\n",
            " b\"S.I.C.K. really stands for So Incredibly Crappy i Killed myself. There was absolutely no acting to speak of. The best part of the whole production was the art work on the cover of the box.The budgeting of this movie was sufficient. The filming was sub sesame street. The production looks like that of the underground filming for mob hits. The props used in this movie were stolen from a clothing store. The ending was so predictable you should fast forward to the last 5 minutes and laugh. If there is a book out there for this movie I'm sure it's better. I would avoid this at all costs. I did enjoy the intimate scenes they made the whole movie worth it. just kidding.\"\n",
            " b'Very funny, well-crafted, well-acted, meticulous attention to detail. A real window into a specific time and place in history. Could almost believe this was a true story in a parallel universe. Interesting how Passport to Pimlico anticipates the Berlin airlift. A definite 10.'\n",
            " b'EA have shown us that they can make a classic 007 agent and make you feel in the 60\\'s world. The graphics of the game are outstanding and also the voice recording is very professional. I got this game April 2007 (two years after release), and I am still impressed with the gameplay. It\\'s a shame that EA will no longer make 007 games.<br /><br />I give this game 10/10 for the levels it contains, especially the \"consulate\" level. I would recommend this game to anyone from the age of 13 and over. The only thing I didn\\'t like in the game is the Russian boat level, it was too much pressure. On the whole I like the game A LOT!!']\n",
            "label:  [1 0 1 1 0 1 0 1 0 1 1 0 0 1 1 0 0 1 0 0 0 0 1 0 0 0 0 1 1 0 1 0 1 0 0 1 0\n",
            " 1 0 1 1 1 1 0 1 1 0 1 1 1 1 1 1 0 1 0 1 0 1 1 0 0 1 1]\n"
          ]
        },
        {
          "name": "stderr",
          "output_type": "stream",
          "text": [
            "2023-03-15 10:25:30.068048: W tensorflow/core/kernels/data/cache_dataset_ops.cc:856] The calling iterator did not fully read the dataset being cached. In order to avoid unexpected truncation of the dataset, the partially cached contents of the dataset  will be discarded. This can happen if you have an input pipeline similar to `dataset.cache().take(k).repeat()`. You should use `dataset.take(k).cache().repeat()` instead.\n"
          ]
        }
      ],
      "source": [
        "for example, label in train_dataset.take(1): # we take 1 example from the training data\n",
        "  print('text: ', example.numpy()) # from that example we want to print text ...\n",
        "  print('label: ', label.numpy()) # ... and the label.\n",
        "\n",
        "# label 0 is negative, and label 1 is positive"
      ]
    },
    {
      "cell_type": "markdown",
      "metadata": {
        "id": "z2qVJzcEluH_"
      },
      "source": [
        "Next shuffle the data for training and create batches of these `(text, label)` pairs:"
      ]
    },
    {
      "cell_type": "code",
      "execution_count": 8,
      "metadata": {
        "id": "dDsCaZCDYZgm"
      },
      "outputs": [],
      "source": [
        "BUFFER_SIZE = 10000 \n",
        "# the buffer is the number of documents which are pulled out from the whole data set, shuffled and used to train the model. \n",
        "# each time the model trains on one of the 10000 documents, this document is then \"thrown out\" and a new document from the complete data set is picked to be part of the buffer of 10000 documents. \n",
        "# we do this to same time and computational memory. \n",
        "BATCH_SIZE = 64 \n",
        "# the number of examples which the model takes from the buffer, trains on and then throws away (and then it takes 64 new docs from the main data set and pull to the buffer)\n",
        "# the model only update the weights after seeing 64 examples. To the model learns from a batch of data instead of from individual data points. Less change of data overfedding. \n",
        "# Think of Ross' example of the cards with cats and dogs. "
      ]
    },
    {
      "cell_type": "code",
      "execution_count": 10,
      "metadata": {
        "id": "VznrltNOnUc5"
      },
      "outputs": [],
      "source": [
        "# take 10000 examples from the train and the test set respectively, shuffle them and and pick 64.\n",
        "train_dataset = train_dataset.shuffle(BUFFER_SIZE).batch(BATCH_SIZE).prefetch(tf.data.AUTOTUNE)\n",
        "test_dataset = test_dataset.batch(BATCH_SIZE).prefetch(tf.data.AUTOTUNE)\n",
        "\n",
        "#.prefetch(tf.data.AUTOTUNE) is a finegrained optimizing thing, which we shouldn't think that much about. "
      ]
    },
    {
      "cell_type": "code",
      "execution_count": 12,
      "metadata": {
        "id": "jqkvdcFv41wC"
      },
      "outputs": [
        {
          "name": "stdout",
          "output_type": "stream",
          "text": [
            "texts:  [b'I haven\\'t watched the movie yet, but can\\'t wait to see it! It seems very interesting and inspirational. It was one of the most interesting trailers I\\'ve ever seen: the questions it posed really stopped me and made me think, the unique approach to the sport of boxing as a metaphor for the \"battle within\"... thank god somebody is hitting another angle with the boxing thing. This film looks so fresh and smart. And the actor is really hot. I especially enjoyed the short clip with the actor from the Rocky movies, really clever. I thought that the topic selected-overcoming adversities and childhood traumas-is timeless, and god knows a lot of people need it. Bring it on.'\n",
            " b'I remember Casper comic books, but don\\'t remember any cartoons. Maybe they weren\\'t memorable; I don\\'t know but at my advanced age, here I am watching this very early Casper animated short yesterday. Afterward, I was shocked to read the user-comments here. Did people miss the ending?<br /><br />I have to learn all over again that Casper isn\\'t like the other ghosts, who like to go out each night and scare the c--p out of everyone. \"He sees no future in that,\" according to the narrator here. Instead, one night he goes out to the rural section of town, inadvertently scares some animals and can\\'t find any friends. It brings him to tears, until a little fox hears him bawling and befriends him. The two become buddies but soon, the fox is running for his life with a fox hunt in progress.<br /><br />Other reviews have all mentioned what happens, so I\\'ll touch on that, too. The fox is killed by hunting dogs (not shown) and Casper is in tears for losing \"the only friend I ever had.\" But, nobody mentions the happy ending to this story. \"Ferdie\" the fox becomes a spirit-figure like Casper, jumps on his lap, licks his face and the narrator comments \"they lived happily ever after.\" Both characters look overjoyed.<br /><br />What is so sad about that? This is a nice story with a nice, happy ending.'\n",
            " b'This film was slated to be a blockbuster film, and it really is. This is the type of movie that is made to eat popcorn to and watch the flashy graphics. With that in mind, the movie delivers, perhaps not as well as the ultra flashy Iron Man, but well enough. Outside of the popcorn munching action and special effects, the film drops off of the cliff faster than Wile E. Coyote.<br /><br />Many viewers, myself included, will complain about how most of the characters were severely altered, but that only makes the film a poor adaptation, not a poor film. This film is unsatisfactory for other reasons. The makers focused more on making it appealing to the eye than they did to the mind. The characters that have been long awaited and promoted are reduced to 4-scene cameos. The main characters of Wolverine, Victor Creed (never called Sabertooth in the film) and Colonel Stryker are well developed. I was pleasantly surprised by Liev Schriber\\'s performance. The rest of the characters are tossed to the wayside to make way for the all important eye-candy. Wolverine\\'s character is fully developed after 30-minutes, as is Sabertooth, though Victor does pull off some surprises late in the film.<br /><br />The \"final boss\" of the film is a twisted and perverse adaptation of the original character and barely gets any development to show just why he is the way he is. The filmmakers obviously felt that all they really needed to do was create a bad ass character who could do anything they wanted and slapped on the name of a popular character.<br /><br />Very disappointing...']\n",
            "\n",
            "labels:  [1 1 0]\n"
          ]
        },
        {
          "name": "stderr",
          "output_type": "stream",
          "text": [
            "2023-03-15 10:40:01.439910: W tensorflow/core/kernels/data/cache_dataset_ops.cc:856] The calling iterator did not fully read the dataset being cached. In order to avoid unexpected truncation of the dataset, the partially cached contents of the dataset  will be discarded. This can happen if you have an input pipeline similar to `dataset.cache().take(k).repeat()`. You should use `dataset.take(k).cache().repeat()` instead.\n"
          ]
        }
      ],
      "source": [
        "# show examples\n",
        "for example, label in train_dataset.take(1):\n",
        "  print('texts: ', example.numpy()[:3])\n",
        "  print()\n",
        "  print('labels: ', label.numpy()[:3])\n",
        "\n",
        "# Notice that the data isn't super clean, it has some wierd signs and stuff. "
      ]
    },
    {
      "cell_type": "markdown",
      "metadata": {
        "id": "s5eWCo88voPY"
      },
      "source": [
        "## Create the text encoder"
      ]
    },
    {
      "cell_type": "markdown",
      "metadata": {
        "id": "TFevcItw15P_"
      },
      "source": [
        "The raw text loaded by `tfds` needs to be processed before it can be used in a model. The simplest way to process text for training is using the `TextVectorization` layer. This layer has many capabilities, but this tutorial sticks to the default behavior.\n",
        "\n",
        "Create the layer, and pass the dataset's text to the layer's `.adapt` method:"
      ]
    },
    {
      "cell_type": "code",
      "execution_count": 13,
      "metadata": {
        "id": "uC25Lu1Yvuqy"
      },
      "outputs": [
        {
          "name": "stdout",
          "output_type": "stream",
          "text": [
            "WARNING:tensorflow:From /home/coder/.local/lib/python3.9/site-packages/tensorflow/python/autograph/pyct/static_analysis/liveness.py:83: Analyzer.lamba_check (from tensorflow.python.autograph.pyct.static_analysis.liveness) is deprecated and will be removed after 2023-09-23.\n",
            "Instructions for updating:\n",
            "Lambda fuctions will be no more assumed to be used in the statement where they are used, or at least in the same block. https://github.com/tensorflow/tensorflow/issues/56089\n"
          ]
        },
        {
          "name": "stderr",
          "output_type": "stream",
          "text": [
            "WARNING:tensorflow:From /home/coder/.local/lib/python3.9/site-packages/tensorflow/python/autograph/pyct/static_analysis/liveness.py:83: Analyzer.lamba_check (from tensorflow.python.autograph.pyct.static_analysis.liveness) is deprecated and will be removed after 2023-09-23.\n",
            "Instructions for updating:\n",
            "Lambda fuctions will be no more assumed to be used in the statement where they are used, or at least in the same block. https://github.com/tensorflow/tensorflow/issues/56089\n"
          ]
        }
      ],
      "source": [
        "# reduces each document by keeping only the 10000 most frequent words from the document. \n",
        "# Document representation: Every document is reduced to a sequence of 10000 numbers where each number referes to a word. \n",
        "VOCAB_SIZE = 1000 \n",
        "encoder = tf.keras.layers.TextVectorization(\n",
        "    max_tokens=VOCAB_SIZE)\n",
        "encoder.adapt(train_dataset.map(lambda text, label: text))"
      ]
    },
    {
      "cell_type": "markdown",
      "metadata": {
        "id": "IuQzVBbe3Ldu"
      },
      "source": [
        "The `.adapt` method sets the layer's vocabulary. Here are the first 20 tokens. After the padding and unknown tokens they're sorted by frequency: "
      ]
    },
    {
      "cell_type": "code",
      "execution_count": 14,
      "metadata": {
        "id": "tBoyjjWg0Ac9"
      },
      "outputs": [
        {
          "data": {
            "text/plain": [
              "array(['', '[UNK]', 'the', 'and', 'a', 'of', 'to', 'is', 'in', 'it', 'i',\n",
              "       'this', 'that', 'br', 'was', 'as', 'for', 'with', 'movie', 'but'],\n",
              "      dtype='<U14')"
            ]
          },
          "execution_count": 14,
          "metadata": {},
          "output_type": "execute_result"
        }
      ],
      "source": [
        "vocab = np.array(encoder.get_vocabulary())\n",
        "vocab[:20] # show the 20 first tokens (out of the 1000 picked out above)\n",
        "# *blank space* is word number 1, [UNK] is word number 2, \"the\" is word number 3 etc."
      ]
    },
    {
      "cell_type": "markdown",
      "metadata": {
        "id": "mjId5pua3jHQ"
      },
      "source": [
        "Once the vocabulary is set, the layer can encode text into indices. The tensors of indices are 0-padded to the longest sequence in the batch (unless you set a fixed `output_sequence_length`):"
      ]
    },
    {
      "cell_type": "code",
      "execution_count": 15,
      "metadata": {
        "id": "RGc7C9WiwRWs"
      },
      "outputs": [
        {
          "data": {
            "text/plain": [
              "array([[ 10, 731, 284, ...,   0,   0,   0],\n",
              "       [ 10, 364,   1, ...,   0,   0,   0],\n",
              "       [ 11,  20,  14, ...,   0,   0,   0]])"
            ]
          },
          "execution_count": 15,
          "metadata": {},
          "output_type": "execute_result"
        }
      ],
      "source": [
        "encoded_example = encoder(example)[:3].numpy()\n",
        "encoded_example\n",
        "# now the text is represented by numbers so so e.g. 10 means \"i\" \n",
        "#the whole document are represented by numbers"
      ]
    },
    {
      "cell_type": "markdown",
      "metadata": {
        "id": "F5cjz0bS39IN"
      },
      "source": [
        "With the default settings, the process is not completely reversible. There are three main reasons for that:\n",
        "\n",
        "1. The default value for `preprocessing.TextVectorization`'s `standardize` argument is `\"lower_and_strip_punctuation\"`.\n",
        "2. The limited vocabulary size and lack of character-based fallback results in some unknown tokens."
      ]
    },
    {
      "cell_type": "code",
      "execution_count": 16,
      "metadata": {
        "id": "N_tD0QY5wXaK"
      },
      "outputs": [
        {
          "name": "stdout",
          "output_type": "stream",
          "text": [
            "Original:  b'I haven\\'t watched the movie yet, but can\\'t wait to see it! It seems very interesting and inspirational. It was one of the most interesting trailers I\\'ve ever seen: the questions it posed really stopped me and made me think, the unique approach to the sport of boxing as a metaphor for the \"battle within\"... thank god somebody is hitting another angle with the boxing thing. This film looks so fresh and smart. And the actor is really hot. I especially enjoyed the short clip with the actor from the Rocky movies, really clever. I thought that the topic selected-overcoming adversities and childhood traumas-is timeless, and god knows a lot of people need it. Bring it on.'\n",
            "Round-trip:  i havent watched the movie yet but cant wait to see it it seems very interesting and [UNK] it was one of the most interesting [UNK] ive ever seen the [UNK] it [UNK] really [UNK] me and made me think the unique [UNK] to the [UNK] of [UNK] as a [UNK] for the battle within [UNK] god [UNK] is [UNK] another [UNK] with the [UNK] thing this film looks so [UNK] and [UNK] and the actor is really hot i especially enjoyed the short [UNK] with the actor from the [UNK] movies really [UNK] i thought that the [UNK] [UNK] [UNK] and [UNK] [UNK] [UNK] and god knows a lot of people need it bring it on                                                                                                                                                                                                                                                                                                                                                                                                                                                                                                                                                                                                                                                                                                                                                                                                                                                                                                                \n",
            "\n",
            "Original:  b'I remember Casper comic books, but don\\'t remember any cartoons. Maybe they weren\\'t memorable; I don\\'t know but at my advanced age, here I am watching this very early Casper animated short yesterday. Afterward, I was shocked to read the user-comments here. Did people miss the ending?<br /><br />I have to learn all over again that Casper isn\\'t like the other ghosts, who like to go out each night and scare the c--p out of everyone. \"He sees no future in that,\" according to the narrator here. Instead, one night he goes out to the rural section of town, inadvertently scares some animals and can\\'t find any friends. It brings him to tears, until a little fox hears him bawling and befriends him. The two become buddies but soon, the fox is running for his life with a fox hunt in progress.<br /><br />Other reviews have all mentioned what happens, so I\\'ll touch on that, too. The fox is killed by hunting dogs (not shown) and Casper is in tears for losing \"the only friend I ever had.\" But, nobody mentions the happy ending to this story. \"Ferdie\" the fox becomes a spirit-figure like Casper, jumps on his lap, licks his face and the narrator comments \"they lived happily ever after.\" Both characters look overjoyed.<br /><br />What is so sad about that? This is a nice story with a nice, happy ending.'\n",
            "Round-trip:  i remember [UNK] comic [UNK] but dont remember any [UNK] maybe they [UNK] memorable i dont know but at my [UNK] age here i am watching this very early [UNK] [UNK] short [UNK] [UNK] i was [UNK] to read the [UNK] here did people miss the [UNK] br i have to learn all over again that [UNK] isnt like the other [UNK] who like to go out each night and [UNK] the [UNK] out of everyone he [UNK] no future in that [UNK] to the [UNK] here instead one night he goes out to the [UNK] [UNK] of town [UNK] [UNK] some [UNK] and cant find any friends it brings him to [UNK] until a little [UNK] [UNK] him [UNK] and [UNK] him the two become [UNK] but soon the [UNK] is running for his life with a [UNK] [UNK] in [UNK] br other reviews have all [UNK] what happens so ill [UNK] on that too the [UNK] is killed by [UNK] [UNK] not shown and [UNK] is in [UNK] for [UNK] the only friend i ever had but [UNK] [UNK] the happy ending to this story [UNK] the [UNK] becomes a [UNK] like [UNK] [UNK] on his [UNK] [UNK] his face and the [UNK] comments they [UNK] [UNK] ever after both characters look [UNK] br what is so sad about that this is a nice story with a nice happy ending                                                                                                                                                                                                                                                                                                                                                                                                                                                                                                                                                                                                                                                                                                                                                                                             \n",
            "\n",
            "Original:  b'This film was slated to be a blockbuster film, and it really is. This is the type of movie that is made to eat popcorn to and watch the flashy graphics. With that in mind, the movie delivers, perhaps not as well as the ultra flashy Iron Man, but well enough. Outside of the popcorn munching action and special effects, the film drops off of the cliff faster than Wile E. Coyote.<br /><br />Many viewers, myself included, will complain about how most of the characters were severely altered, but that only makes the film a poor adaptation, not a poor film. This film is unsatisfactory for other reasons. The makers focused more on making it appealing to the eye than they did to the mind. The characters that have been long awaited and promoted are reduced to 4-scene cameos. The main characters of Wolverine, Victor Creed (never called Sabertooth in the film) and Colonel Stryker are well developed. I was pleasantly surprised by Liev Schriber\\'s performance. The rest of the characters are tossed to the wayside to make way for the all important eye-candy. Wolverine\\'s character is fully developed after 30-minutes, as is Sabertooth, though Victor does pull off some surprises late in the film.<br /><br />The \"final boss\" of the film is a twisted and perverse adaptation of the original character and barely gets any development to show just why he is the way he is. The filmmakers obviously felt that all they really needed to do was create a bad ass character who could do anything they wanted and slapped on the name of a popular character.<br /><br />Very disappointing...'\n",
            "Round-trip:  this film was [UNK] to be a [UNK] film and it really is this is the type of movie that is made to [UNK] [UNK] to and watch the [UNK] [UNK] with that in mind the movie [UNK] perhaps not as well as the [UNK] [UNK] [UNK] man but well enough outside of the [UNK] [UNK] action and special effects the film [UNK] off of the [UNK] [UNK] than [UNK] [UNK] [UNK] br many viewers myself [UNK] will [UNK] about how most of the characters were [UNK] [UNK] but that only makes the film a poor [UNK] not a poor film this film is [UNK] for other [UNK] the [UNK] [UNK] more on making it [UNK] to the eye than they did to the mind the characters that have been long [UNK] and [UNK] are [UNK] to [UNK] [UNK] the main characters of [UNK] [UNK] [UNK] never called [UNK] in the film and [UNK] [UNK] are well [UNK] i was [UNK] surprised by [UNK] [UNK] performance the rest of the characters are [UNK] to the [UNK] to make way for the all important [UNK] [UNK] character is [UNK] [UNK] after [UNK] as is [UNK] though [UNK] does [UNK] off some [UNK] late in the filmbr br the final [UNK] of the film is a [UNK] and [UNK] [UNK] of the original character and [UNK] gets any development to show just why he is the way he is the filmmakers obviously felt that all they really needed to do was create a bad [UNK] character who could do anything they wanted and [UNK] on the name of a [UNK] [UNK] br very [UNK]                                                                                                                                                                                                                                                                                                                                                                                                                                                                                                                                                                                                                                                                                                                                                     \n",
            "\n"
          ]
        }
      ],
      "source": [
        "for n in range(3):\n",
        "  print(\"Original: \", example[n].numpy())\n",
        "  print(\"Round-trip: \", \" \".join(vocab[encoded_example[n]]))\n",
        "  print()"
      ]
    },
    {
      "cell_type": "markdown",
      "metadata": {
        "id": "bjUqGVBxGw-t"
      },
      "source": [
        "## Create the model"
      ]
    },
    {
      "cell_type": "markdown",
      "metadata": {
        "id": "W7zsmInBOCPO"
      },
      "source": [
        "![A drawing of the information flow in the model](images/bidirectional.png)"
      ]
    },
    {
      "cell_type": "markdown",
      "metadata": {
        "id": "bgs6nnSTGw-t"
      },
      "source": [
        "Above is a diagram of the model. \n",
        "\n",
        "1. This model can be build as a `tf.keras.Sequential`.\n",
        "\n",
        "2. The first layer is the `encoder`, which converts the text to a sequence of token indices.\n",
        "\n",
        "3. After the encoder is an embedding layer. An embedding layer stores one vector per word. When called, it converts the sequences of word indices to sequences of vectors. These vectors are trainable. After training (on enough data), words with similar meanings often have similar vectors.\n",
        "\n",
        "  This index-lookup is much more efficient than the equivalent operation of passing a one-hot encoded vector through a `tf.keras.layers.Dense` layer.\n",
        "\n",
        "4. A recurrent neural network (RNN) processes sequence input by iterating through the elements. RNNs pass the outputs from one timestep to their input on the next timestep.\n",
        "\n",
        "  The `tf.keras.layers.Bidirectional` wrapper can also be used with an RNN layer. This propagates the input forward and backwards through the RNN layer and then concatenates the final output. \n",
        "\n",
        "  * The main advantage of a bidirectional RNN is that the signal from the beginning of the input doesn't need to be processed all the way through every timestep to affect the output.  \n",
        "\n",
        "  * The main disadvantage of a bidirectional RNN is that you can't efficiently stream predictions as words are being added to the end.\n",
        "\n",
        "5. After the RNN has converted the sequence to a single vector the two `layers.Dense` do some final processing, and convert from this vector representation to a single logit as the classification output. \n"
      ]
    },
    {
      "cell_type": "markdown",
      "metadata": {
        "id": "V4fodCI7soQi"
      },
      "source": [
        "The code to implement this is below:"
      ]
    },
    {
      "cell_type": "code",
      "execution_count": 17,
      "metadata": {
        "id": "LwfoBkmRYcP3"
      },
      "outputs": [],
      "source": [
        "# creating the neural network\n",
        "model = tf.keras.Sequential([ #define model\n",
        "    encoder,# encoder layer\n",
        "    tf.keras.layers.Embedding( # embedding layer\n",
        "        input_dim=len(encoder.get_vocabulary()),\n",
        "        output_dim=64,\n",
        "        # Use masking to handle the variable sequence lengths\n",
        "        mask_zero=True),\n",
        "    tf.keras.layers.Bidirectional(tf.keras.layers.LSTM(64)), # bi-directional layer\n",
        "    tf.keras.layers.Dense(64, activation='relu'),\n",
        "    tf.keras.layers.Dense(1)\n",
        "])"
      ]
    },
    {
      "cell_type": "markdown",
      "metadata": {
        "id": "QIGmIGkkouUb"
      },
      "source": [
        "Please note that Keras sequential model is used here since all the layers in the model only have single input and produce single output. In case you want to use stateful RNN layer, you might want to build your model with Keras functional API or model subclassing so that you can retrieve and reuse the RNN layer states. Please check [Keras RNN guide](https://www.tensorflow.org/guide/keras/rnn#rnn_state_reuse) for more details."
      ]
    },
    {
      "cell_type": "markdown",
      "metadata": {
        "id": "kF-PsCk1LwjY"
      },
      "source": [
        "The embedding layer [uses masking](https://www.tensorflow.org/guide/keras/masking_and_padding) to handle the varying sequence-lengths. All the layers after the `Embedding` support masking:"
      ]
    },
    {
      "cell_type": "code",
      "execution_count": 18,
      "metadata": {
        "id": "87a8-CwfKebw"
      },
      "outputs": [
        {
          "name": "stdout",
          "output_type": "stream",
          "text": [
            "[False, True, True, True, True]\n"
          ]
        }
      ],
      "source": [
        "print([layer.supports_masking for layer in model.layers])"
      ]
    },
    {
      "cell_type": "markdown",
      "metadata": {
        "id": "ZlS0iaUIWLpI"
      },
      "source": [
        "To confirm that this works as expected, evaluate a sentence twice. First, alone so there's no padding to mask:"
      ]
    },
    {
      "cell_type": "code",
      "execution_count": 19,
      "metadata": {
        "id": "O41gw3KfWHus"
      },
      "outputs": [
        {
          "name": "stdout",
          "output_type": "stream",
          "text": [
            "1/1 [==============================] - 2s 2s/step\n",
            "[-0.00922541]\n"
          ]
        }
      ],
      "source": [
        "# predict on a sample text without padding.\n",
        "\n",
        "sample_text = ('The movie was cool. The animation and the graphics '\n",
        "               'were out of this world. I would recommend this movie.')\n",
        "predictions = model.predict(np.array([sample_text]))\n",
        "print(predictions[0])"
      ]
    },
    {
      "cell_type": "markdown",
      "metadata": {
        "id": "K0VQmGnEWcuz"
      },
      "source": [
        "Now, evaluate it again in a batch with a longer sentence. The result should be identical:"
      ]
    },
    {
      "cell_type": "code",
      "execution_count": 20,
      "metadata": {
        "id": "UIgpuTeFNDzq"
      },
      "outputs": [
        {
          "name": "stdout",
          "output_type": "stream",
          "text": [
            "1/1 [==============================] - 0s 229ms/step\n",
            "[-0.00922541]\n"
          ]
        }
      ],
      "source": [
        "# predict on a sample text with padding\n",
        "\n",
        "padding = \"the \" * 2000\n",
        "predictions = model.predict(np.array([sample_text, padding]))\n",
        "print(predictions[0])"
      ]
    },
    {
      "cell_type": "markdown",
      "metadata": {
        "id": "sRI776ZcH3Tf"
      },
      "source": [
        "Compile the Keras model to configure the training process:"
      ]
    },
    {
      "cell_type": "code",
      "execution_count": 21,
      "metadata": {
        "id": "kj2xei41YZjC"
      },
      "outputs": [],
      "source": [
        "model.compile(loss=tf.keras.losses.BinaryCrossentropy(from_logits=True),\n",
        "              optimizer=tf.keras.optimizers.Adam(1e-4),\n",
        "              metrics=['accuracy'])"
      ]
    },
    {
      "cell_type": "markdown",
      "metadata": {
        "id": "zIwH3nto596k"
      },
      "source": [
        "## Train the model"
      ]
    },
    {
      "cell_type": "code",
      "execution_count": 22,
      "metadata": {
        "id": "hw86wWS4YgR2"
      },
      "outputs": [
        {
          "name": "stdout",
          "output_type": "stream",
          "text": [
            "Epoch 1/10\n",
            "391/391 [==============================] - 247s 617ms/step - loss: 0.6531 - accuracy: 0.5381 - val_loss: 0.5396 - val_accuracy: 0.6781\n",
            "Epoch 2/10\n"
          ]
        },
        {
          "name": "stderr",
          "output_type": "stream",
          "text": [
            "2023-03-15 10:50:21.896586: W tensorflow/core/kernels/data/cache_dataset_ops.cc:856] The calling iterator did not fully read the dataset being cached. In order to avoid unexpected truncation of the dataset, the partially cached contents of the dataset  will be discarded. This can happen if you have an input pipeline similar to `dataset.cache().take(k).repeat()`. You should use `dataset.take(k).cache().repeat()` instead.\n"
          ]
        },
        {
          "name": "stdout",
          "output_type": "stream",
          "text": [
            "391/391 [==============================] - 234s 600ms/step - loss: 0.4160 - accuracy: 0.8027 - val_loss: 0.3679 - val_accuracy: 0.8333\n",
            "Epoch 3/10\n"
          ]
        },
        {
          "name": "stderr",
          "output_type": "stream",
          "text": [
            "2023-03-15 10:54:16.411597: W tensorflow/core/kernels/data/cache_dataset_ops.cc:856] The calling iterator did not fully read the dataset being cached. In order to avoid unexpected truncation of the dataset, the partially cached contents of the dataset  will be discarded. This can happen if you have an input pipeline similar to `dataset.cache().take(k).repeat()`. You should use `dataset.take(k).cache().repeat()` instead.\n"
          ]
        },
        {
          "name": "stdout",
          "output_type": "stream",
          "text": [
            "391/391 [==============================] - 236s 604ms/step - loss: 0.3437 - accuracy: 0.8482 - val_loss: 0.3462 - val_accuracy: 0.8469\n",
            "Epoch 4/10\n"
          ]
        },
        {
          "name": "stderr",
          "output_type": "stream",
          "text": [
            "2023-03-15 10:58:12.684881: W tensorflow/core/kernels/data/cache_dataset_ops.cc:856] The calling iterator did not fully read the dataset being cached. In order to avoid unexpected truncation of the dataset, the partially cached contents of the dataset  will be discarded. This can happen if you have an input pipeline similar to `dataset.cache().take(k).repeat()`. You should use `dataset.take(k).cache().repeat()` instead.\n"
          ]
        },
        {
          "name": "stdout",
          "output_type": "stream",
          "text": [
            "391/391 [==============================] - 236s 603ms/step - loss: 0.3257 - accuracy: 0.8590 - val_loss: 0.3423 - val_accuracy: 0.8516\n",
            "Epoch 5/10\n"
          ]
        },
        {
          "name": "stderr",
          "output_type": "stream",
          "text": [
            "2023-03-15 11:02:08.515304: W tensorflow/core/kernels/data/cache_dataset_ops.cc:856] The calling iterator did not fully read the dataset being cached. In order to avoid unexpected truncation of the dataset, the partially cached contents of the dataset  will be discarded. This can happen if you have an input pipeline similar to `dataset.cache().take(k).repeat()`. You should use `dataset.take(k).cache().repeat()` instead.\n"
          ]
        },
        {
          "name": "stdout",
          "output_type": "stream",
          "text": [
            "391/391 [==============================] - 236s 603ms/step - loss: 0.3143 - accuracy: 0.8648 - val_loss: 0.3266 - val_accuracy: 0.8599\n",
            "Epoch 6/10\n"
          ]
        },
        {
          "name": "stderr",
          "output_type": "stream",
          "text": [
            "2023-03-15 11:06:04.369754: W tensorflow/core/kernels/data/cache_dataset_ops.cc:856] The calling iterator did not fully read the dataset being cached. In order to avoid unexpected truncation of the dataset, the partially cached contents of the dataset  will be discarded. This can happen if you have an input pipeline similar to `dataset.cache().take(k).repeat()`. You should use `dataset.take(k).cache().repeat()` instead.\n"
          ]
        },
        {
          "name": "stdout",
          "output_type": "stream",
          "text": [
            "391/391 [==============================] - 239s 612ms/step - loss: 0.3097 - accuracy: 0.8663 - val_loss: 0.3334 - val_accuracy: 0.8604\n",
            "Epoch 7/10\n"
          ]
        },
        {
          "name": "stderr",
          "output_type": "stream",
          "text": [
            "2023-03-15 11:10:03.761661: W tensorflow/core/kernels/data/cache_dataset_ops.cc:856] The calling iterator did not fully read the dataset being cached. In order to avoid unexpected truncation of the dataset, the partially cached contents of the dataset  will be discarded. This can happen if you have an input pipeline similar to `dataset.cache().take(k).repeat()`. You should use `dataset.take(k).cache().repeat()` instead.\n"
          ]
        },
        {
          "name": "stdout",
          "output_type": "stream",
          "text": [
            "391/391 [==============================] - 238s 608ms/step - loss: 0.3057 - accuracy: 0.8682 - val_loss: 0.3250 - val_accuracy: 0.8526\n",
            "Epoch 8/10\n"
          ]
        },
        {
          "name": "stderr",
          "output_type": "stream",
          "text": [
            "2023-03-15 11:14:01.388138: W tensorflow/core/kernels/data/cache_dataset_ops.cc:856] The calling iterator did not fully read the dataset being cached. In order to avoid unexpected truncation of the dataset, the partially cached contents of the dataset  will be discarded. This can happen if you have an input pipeline similar to `dataset.cache().take(k).repeat()`. You should use `dataset.take(k).cache().repeat()` instead.\n"
          ]
        },
        {
          "name": "stdout",
          "output_type": "stream",
          "text": [
            "391/391 [==============================] - 237s 606ms/step - loss: 0.3031 - accuracy: 0.8694 - val_loss: 0.3254 - val_accuracy: 0.8625\n",
            "Epoch 9/10\n"
          ]
        },
        {
          "name": "stderr",
          "output_type": "stream",
          "text": [
            "2023-03-15 11:17:58.500764: W tensorflow/core/kernels/data/cache_dataset_ops.cc:856] The calling iterator did not fully read the dataset being cached. In order to avoid unexpected truncation of the dataset, the partially cached contents of the dataset  will be discarded. This can happen if you have an input pipeline similar to `dataset.cache().take(k).repeat()`. You should use `dataset.take(k).cache().repeat()` instead.\n"
          ]
        },
        {
          "name": "stdout",
          "output_type": "stream",
          "text": [
            "391/391 [==============================] - 238s 607ms/step - loss: 0.3007 - accuracy: 0.8694 - val_loss: 0.3333 - val_accuracy: 0.8594\n",
            "Epoch 10/10\n"
          ]
        },
        {
          "name": "stderr",
          "output_type": "stream",
          "text": [
            "2023-03-15 11:21:56.210612: W tensorflow/core/kernels/data/cache_dataset_ops.cc:856] The calling iterator did not fully read the dataset being cached. In order to avoid unexpected truncation of the dataset, the partially cached contents of the dataset  will be discarded. This can happen if you have an input pipeline similar to `dataset.cache().take(k).repeat()`. You should use `dataset.take(k).cache().repeat()` instead.\n"
          ]
        },
        {
          "name": "stdout",
          "output_type": "stream",
          "text": [
            "391/391 [==============================] - 236s 605ms/step - loss: 0.2996 - accuracy: 0.8707 - val_loss: 0.3263 - val_accuracy: 0.8536\n"
          ]
        },
        {
          "name": "stderr",
          "output_type": "stream",
          "text": [
            "2023-03-15 11:25:52.710232: W tensorflow/core/kernels/data/cache_dataset_ops.cc:856] The calling iterator did not fully read the dataset being cached. In order to avoid unexpected truncation of the dataset, the partially cached contents of the dataset  will be discarded. This can happen if you have an input pipeline similar to `dataset.cache().take(k).repeat()`. You should use `dataset.take(k).cache().repeat()` instead.\n"
          ]
        }
      ],
      "source": [
        "history = model.fit(train_dataset, epochs=10,\n",
        "                    validation_data=test_dataset,\n",
        "                    validation_steps=30)\n",
        "#this takes a LOOOONG of time (det tog 40 min), because we are looking at all the individual words. "
      ]
    },
    {
      "cell_type": "code",
      "execution_count": 23,
      "metadata": {
        "id": "BaNbXi43YgUT"
      },
      "outputs": [
        {
          "name": "stdout",
          "output_type": "stream",
          "text": [
            "391/391 [==============================] - 75s 193ms/step - loss: 0.3202 - accuracy: 0.8586\n",
            "Test Loss: 0.32017743587493896\n",
            "Test Accuracy: 0.8586400151252747\n"
          ]
        }
      ],
      "source": [
        "test_loss, test_acc = model.evaluate(test_dataset)\n",
        "\n",
        "print('Test Loss:', test_loss)\n",
        "print('Test Accuracy:', test_acc)"
      ]
    },
    {
      "cell_type": "code",
      "execution_count": 24,
      "metadata": {
        "id": "OZmwt_mzaQJk"
      },
      "outputs": [
        {
          "data": {
            "text/plain": [
              "(0.0, 0.6708109647035598)"
            ]
          },
          "execution_count": 24,
          "metadata": {},
          "output_type": "execute_result"
        },
        {
          "data": {
            "image/png": "[encoded data removed]",
            "text/plain": [
              "<Figure size 1600x800 with 2 Axes>"
            ]
          },
          "metadata": {},
          "output_type": "display_data"
        }
      ],
      "source": [
        "# plotting\n",
        "plt.figure(figsize=(16, 8))\n",
        "plt.subplot(1, 2, 1)\n",
        "plot_graphs(history, 'accuracy')\n",
        "plt.ylim(None, 1)\n",
        "plt.subplot(1, 2, 2)\n",
        "plot_graphs(history, 'loss')\n",
        "plt.ylim(0, None)"
      ]
    },
    {
      "cell_type": "markdown",
      "metadata": {
        "id": "DwSE_386uhxD"
      },
      "source": [
        "Run a prediction on a new sentence:\n",
        "\n",
        "If the prediction is >= 0.0, it is positive else it is negative."
      ]
    },
    {
      "cell_type": "code",
      "execution_count": 25,
      "metadata": {
        "id": "ZXgfQSgRW6zU"
      },
      "outputs": [
        {
          "name": "stdout",
          "output_type": "stream",
          "text": [
            "1/1 [==============================] - 2s 2s/step\n"
          ]
        }
      ],
      "source": [
        "#use the model to make predictions on new data\n",
        "sample_text = ('The movie was cool. The animation and the graphics '\n",
        "               'were out of this world. I would recommend this movie.')\n",
        "predictions = model.predict(np.array([sample_text]))"
      ]
    },
    {
      "cell_type": "markdown",
      "metadata": {
        "id": "7g1evcaRpTKm"
      },
      "source": [
        "## Stack two or more LSTM layers\n",
        "\n",
        "Keras recurrent layers have two available modes that are controlled by the `return_sequences` constructor argument:\n",
        "\n",
        "* If `False` it returns only the last output for each input sequence (a 2D tensor of shape (batch_size, output_features)). This is the default, used in the previous model.\n",
        "\n",
        "* If `True` the full sequences of successive outputs for each timestep is returned (a 3D tensor of shape `(batch_size, timesteps, output_features)`).\n",
        "\n",
        "Here is what the flow of information looks like with `return_sequences=True`:\n",
        "\n",
        "![layered_bidirectional](images/layered_bidirectional.png)"
      ]
    },
    {
      "cell_type": "markdown",
      "metadata": {
        "id": "wbSClCrG1z8l"
      },
      "source": [
        "The interesting thing about using an `RNN` with `return_sequences=True` is that the output still has 3-axes, like the input, so it can be passed to another RNN layer, like this:"
      ]
    },
    {
      "cell_type": "code",
      "execution_count": null,
      "metadata": {
        "id": "jo1jjO3vn0jo"
      },
      "outputs": [],
      "source": [
        "model = tf.keras.Sequential([\n",
        "    encoder,\n",
        "    tf.keras.layers.Embedding(len(encoder.get_vocabulary()), 64, mask_zero=True),\n",
        "    tf.keras.layers.Bidirectional(tf.keras.layers.LSTM(64,  return_sequences=True)),\n",
        "    tf.keras.layers.Bidirectional(tf.keras.layers.LSTM(32)),\n",
        "    tf.keras.layers.Dense(64, activation='relu'),\n",
        "    tf.keras.layers.Dropout(0.5),\n",
        "    tf.keras.layers.Dense(1)\n",
        "])"
      ]
    },
    {
      "cell_type": "code",
      "execution_count": null,
      "metadata": {
        "id": "hEPV5jVGp-is"
      },
      "outputs": [],
      "source": [
        "model.compile(loss=tf.keras.losses.BinaryCrossentropy(from_logits=True),\n",
        "              optimizer=tf.keras.optimizers.Adam(1e-4),\n",
        "              metrics=['accuracy'])"
      ]
    },
    {
      "cell_type": "code",
      "execution_count": null,
      "metadata": {
        "id": "LeSE-YjdqAeN"
      },
      "outputs": [],
      "source": [
        "history = model.fit(train_dataset, epochs=10,\n",
        "                    validation_data=test_dataset,\n",
        "                    validation_steps=30)"
      ]
    },
    {
      "cell_type": "code",
      "execution_count": null,
      "metadata": {
        "id": "_LdwilM1qPM3"
      },
      "outputs": [],
      "source": [
        "test_loss, test_acc = model.evaluate(test_dataset)\n",
        "\n",
        "print('Test Loss:', test_loss)\n",
        "print('Test Accuracy:', test_acc)"
      ]
    },
    {
      "cell_type": "code",
      "execution_count": null,
      "metadata": {
        "id": "ykUKnAoqbycW"
      },
      "outputs": [],
      "source": [
        "# predict on a sample text without padding.\n",
        "\n",
        "sample_text = ('The movie was not good. The animation and the graphics '\n",
        "               'were terrible. I would not recommend this movie.')\n",
        "predictions = model.predict(np.array([sample_text]))\n",
        "print(predictions)"
      ]
    },
    {
      "cell_type": "code",
      "execution_count": null,
      "metadata": {
        "id": "_YYub0EDtwCu"
      },
      "outputs": [],
      "source": [
        "plt.figure(figsize=(16, 6))\n",
        "plt.subplot(1, 2, 1)\n",
        "plot_graphs(history, 'accuracy')\n",
        "plt.subplot(1, 2, 2)\n",
        "plot_graphs(history, 'loss')"
      ]
    },
    {
      "cell_type": "markdown",
      "metadata": {
        "id": "9xvpE3BaGw_V"
      },
      "source": [
        "Check out other existing recurrent layers such as [GRU layers](https://www.tensorflow.org/api_docs/python/tf/keras/layers/GRU).\n",
        "\n",
        "If you're interested in building custom RNNs, see the [Keras RNN Guide](https://www.tensorflow.org/guide/keras/rnn).\n"
      ]
    }
  ],
  "metadata": {
    "accelerator": "GPU",
    "colab": {
      "collapsed_sections": [],
      "name": "text_classification_rnn.ipynb",
      "provenance": [],
      "toc_visible": true
    },
    "kernelspec": {
      "display_name": "Python 3",
      "language": "python",
      "name": "python3"
    },
    "language_info": {
      "codemirror_mode": {
        "name": "ipython",
        "version": 3
      },
      "file_extension": ".py",
      "mimetype": "text/x-python",
      "name": "python",
      "nbconvert_exporter": "python",
      "pygments_lexer": "ipython3",
      "version": "3.9.2"
    },
    "vscode": {
      "interpreter": {
        "hash": "767d51c1340bd893661ea55ea3124f6de3c7a262a8b4abca0554b478b1e2ff90"
      }
    }
  },
  "nbformat": 4,
  "nbformat_minor": 0
}
